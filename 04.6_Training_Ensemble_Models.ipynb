{
    "cells": [
        {
            "cell_type": "markdown",
            "metadata": {},
            "source": [
                "## Training Ensemble Models"
            ]
        },
        {
            "cell_type": "markdown",
            "metadata": {},
            "source": [
                "### Step 1 | Import libraries"
            ]
        },
        {
            "cell_type": "code",
            "execution_count": 1,
            "metadata": {},
            "outputs": [
                {
                    "name": "stderr",
                    "output_type": "stream",
                    "text": [
                        "C:\\Users\\FPT Shop\\AppData\\Roaming\\Python\\Python37\\site-packages\\pandas\\compat\\_optional.py:138: UserWarning: Pandas requires version '2.7.0' or newer of 'numexpr' (version '2.6.8' currently installed).\n",
                        "  warnings.warn(msg, UserWarning)\n"
                    ]
                }
            ],
            "source": [
                "import seaborn as sns\n",
                "import matplotlib.pyplot as plt\n",
                "import warnings\n",
                "import numpy as np\n",
                "import pandas as pd\n",
                "from sklearn.preprocessing import StandardScaler\n",
                "from sklearn.pipeline import Pipeline\n",
                "from sklearn.metrics import confusion_matrix ,classification_report, mean_absolute_error, log_loss\n",
                "from sklearn.ensemble import AdaBoostClassifier, GradientBoostingClassifier, VotingClassifier, RandomForestClassifier\n",
                "from sklearn.svm import SVC\n",
                "from sklearn.tree import DecisionTreeClassifier\n",
                "from tune_clf_hyperparameters import tune_clf_hyperparameters\n",
                "from plot_confusion_matrix import plot_confusion_matrix\n",
                "from sklearn.feature_selection import SelectFromModel\n",
                "warnings.filterwarnings(\"ignore\")"
            ]
        },
        {
            "cell_type": "markdown",
            "metadata": {},
            "source": [
                "### Step 2 | Import dataset"
            ]
        },
        {
            "cell_type": "code",
            "execution_count": 2,
            "metadata": {},
            "outputs": [],
            "source": [
                "train_df = pd.read_csv('./data/preprocessed_train_df.csv')\n",
                "test_df = pd.read_csv('./data/preprocessed_test_data.csv')"
            ]
        },
        {
            "cell_type": "code",
            "execution_count": 3,
            "metadata": {},
            "outputs": [],
            "source": [
                "X_train = train_df.drop(columns=['NObeyesdad'])\n",
                "y_train = train_df['NObeyesdad']\n",
                "X_test = test_df.drop(columns=['NObeyesdad'])\n",
                "y_test = test_df['NObeyesdad']"
            ]
        },
        {
            "cell_type": "markdown",
            "metadata": {},
            "source": [
                "### Step 3 | Training"
            ]
        },
        {
            "cell_type": "markdown",
            "metadata": {},
            "source": [
                "### 3.1 | Voting "
            ]
        },
        {
            "cell_type": "code",
            "execution_count": 4,
            "metadata": {},
            "outputs": [],
            "source": [
                "eclf = VotingClassifier(estimators=[\n",
                "    ('svm', SVC(probability=True, C = 5, kernel='linear')),\n",
                "    ('dt', DecisionTreeClassifier(\n",
                "        criterion= 'entropy',\n",
                "        max_depth= 11,\n",
                "        max_features= None,\n",
                "        min_samples_leaf= 10,\n",
                "        min_samples_split= 2,\n",
                "        splitter= 'best'\n",
                "    )),\n",
                "    ('rf', RandomForestClassifier(\n",
                "        criterion= 'entropy',\n",
                "        max_depth= None,\n",
                "        max_features= 'sqrt',\n",
                "        n_estimators= 900\n",
                "    ))],\n",
                "    voting='soft'\n",
                ")"
            ]
        },
        {
            "cell_type": "code",
            "execution_count": 5,
            "metadata": {},
            "outputs": [
                {
                    "data": {
                        "text/plain": [
                            "VotingClassifier(estimators=[('svm',\n",
                            "                              SVC(C=5, kernel='linear', probability=True)),\n",
                            "                             ('dt',\n",
                            "                              DecisionTreeClassifier(criterion='entropy',\n",
                            "                                                     max_depth=11,\n",
                            "                                                     min_samples_leaf=10)),\n",
                            "                             ('rf',\n",
                            "                              RandomForestClassifier(criterion='entropy',\n",
                            "                                                     max_features='sqrt',\n",
                            "                                                     n_estimators=900))],\n",
                            "                 voting='soft')"
                        ]
                    },
                    "execution_count": 5,
                    "metadata": {},
                    "output_type": "execute_result"
                }
            ],
            "source": [
                "eclf.fit(X_train, y_train)"
            ]
        },
        {
            "cell_type": "code",
            "execution_count": 6,
            "metadata": {},
            "outputs": [
                {
                    "name": "stdout",
                    "output_type": "stream",
                    "text": [
                        "              precision    recall  f1-score   support\n",
                        "\n",
                        "           0     0.9402    0.9658    0.9528      2018\n",
                        "           1     0.9233    0.9181    0.9207      2465\n",
                        "           2     0.8929    0.8671    0.8798      1942\n",
                        "           3     0.9001    0.9108    0.9054      2018\n",
                        "           4     0.9380    0.9287    0.9333      2328\n",
                        "           5     0.9759    0.9819    0.9789      2598\n",
                        "           6     0.9981    0.9975    0.9978      3237\n",
                        "\n",
                        "    accuracy                         0.9440     16606\n",
                        "   macro avg     0.9384    0.9386    0.9384     16606\n",
                        "weighted avg     0.9438    0.9440    0.9439     16606\n",
                        "\n"
                    ]
                }
            ],
            "source": [
                "print(classification_report(y_train, eclf.predict(X_train), digits=4))"
            ]
        },
        {
            "cell_type": "code",
            "execution_count": 8,
            "metadata": {},
            "outputs": [
                {
                    "name": "stdout",
                    "output_type": "stream",
                    "text": [
                        "              precision    recall  f1-score   support\n",
                        "\n",
                        "           0     0.9237    0.9584    0.9407       505\n",
                        "           1     0.8773    0.8687    0.8730       617\n",
                        "           2     0.8036    0.7423    0.7717       485\n",
                        "           3     0.7928    0.8274    0.8097       504\n",
                        "           4     0.8845    0.8814    0.8830       582\n",
                        "           5     0.9587    0.9646    0.9617       650\n",
                        "           6     0.9963    0.9963    0.9963       809\n",
                        "\n",
                        "    accuracy                         0.9015      4152\n",
                        "   macro avg     0.8910    0.8913    0.8909      4152\n",
                        "weighted avg     0.9010    0.9015    0.9010      4152\n",
                        "\n"
                    ]
                }
            ],
            "source": [
                "y_pred = eclf.predict(X_test)\n",
                "print(classification_report(y_test, y_pred, digits=4))"
            ]
        },
        {
            "cell_type": "code",
            "execution_count": 9,
            "metadata": {},
            "outputs": [
                {
                    "data": {
                        "image/png": "[encoded data removed]",
                        "text/plain": [
                            "<Figure size 576x432 with 2 Axes>"
                        ]
                    },
                    "metadata": {
                        "needs_background": "light"
                    },
                    "output_type": "display_data"
                }
            ],
            "source": [
                "plot_confusion_matrix(y_test, y_pred, 'Confusion Matrix of Voting Classifier')"
            ]
        },
        {
            "cell_type": "markdown",
            "metadata": {},
            "source": [
                "### 3.2 | Boosting"
            ]
        },
        {
            "cell_type": "markdown",
            "metadata": {},
            "source": [
                "#### 3.2.1 | AdaBoost"
            ]
        },
        {
            "cell_type": "code",
            "execution_count": 13,
            "metadata": {},
            "outputs": [],
            "source": [
                "ada_clf = AdaBoostClassifier(\n",
                "    DecisionTreeClassifier(\n",
                "        criterion = 'entropy',\n",
                "        max_depth = 11,\n",
                "        max_features = None,\n",
                "        min_samples_leaf = 10,\n",
                "        min_samples_split = 2,\n",
                "        splitter = 'best'\n",
                "))\n"
            ]
        },
        {
            "cell_type": "code",
            "execution_count": 14,
            "metadata": {},
            "outputs": [],
            "source": [
                "para_grid_ada = {\n",
                "    'n_estimators': [25, 50, 100, 200],\n",
                "    'learning_rate': [0.1, 0.2, 0.5, 1]\n",
                "}"
            ]
        },
        {
            "cell_type": "code",
            "execution_count": 17,
            "metadata": {},
            "outputs": [],
            "source": [
                "best_ada, best_ada_hyperparams, tuning_results = tune_clf_hyperparameters(ada_clf, para_grid_ada, X_train, y_train)"
            ]
        },
        {
            "cell_type": "code",
            "execution_count": 18,
            "metadata": {},
            "outputs": [
                {
                    "data": {
                        "text/html": [
                            "<div>\n",
                            "<style scoped>\n",
                            "    .dataframe tbody tr th:only-of-type {\n",
                            "        vertical-align: middle;\n",
                            "    }\n",
                            "\n",
                            "    .dataframe tbody tr th {\n",
                            "        vertical-align: top;\n",
                            "    }\n",
                            "\n",
                            "    .dataframe thead th {\n",
                            "        text-align: right;\n",
                            "    }\n",
                            "</style>\n",
                            "<table border=\"1\" class=\"dataframe\">\n",
                            "  <thead>\n",
                            "    <tr style=\"text-align: right;\">\n",
                            "      <th></th>\n",
                            "      <th>mean_fit_time</th>\n",
                            "      <th>std_fit_time</th>\n",
                            "      <th>mean_score_time</th>\n",
                            "      <th>std_score_time</th>\n",
                            "      <th>param_learning_rate</th>\n",
                            "      <th>param_n_estimators</th>\n",
                            "      <th>params</th>\n",
                            "      <th>split0_test_score</th>\n",
                            "      <th>split1_test_score</th>\n",
                            "      <th>split2_test_score</th>\n",
                            "      <th>split3_test_score</th>\n",
                            "      <th>split4_test_score</th>\n",
                            "      <th>mean_test_score</th>\n",
                            "      <th>std_test_score</th>\n",
                            "      <th>rank_test_score</th>\n",
                            "    </tr>\n",
                            "  </thead>\n",
                            "  <tbody>\n",
                            "    <tr>\n",
                            "      <th>15</th>\n",
                            "      <td>20.620076</td>\n",
                            "      <td>1.236207</td>\n",
                            "      <td>0.191652</td>\n",
                            "      <td>0.009135</td>\n",
                            "      <td>1</td>\n",
                            "      <td>200</td>\n",
                            "      <td>{'learning_rate': 1, 'n_estimators': 200}</td>\n",
                            "      <td>0.893438</td>\n",
                            "      <td>0.889491</td>\n",
                            "      <td>0.890093</td>\n",
                            "      <td>0.895513</td>\n",
                            "      <td>0.898826</td>\n",
                            "      <td>0.893472</td>\n",
                            "      <td>0.003467</td>\n",
                            "      <td>1</td>\n",
                            "    </tr>\n",
                            "    <tr>\n",
                            "      <th>14</th>\n",
                            "      <td>13.620687</td>\n",
                            "      <td>0.339516</td>\n",
                            "      <td>0.148635</td>\n",
                            "      <td>0.013233</td>\n",
                            "      <td>1</td>\n",
                            "      <td>100</td>\n",
                            "      <td>{'learning_rate': 1, 'n_estimators': 100}</td>\n",
                            "      <td>0.890126</td>\n",
                            "      <td>0.893104</td>\n",
                            "      <td>0.887986</td>\n",
                            "      <td>0.891900</td>\n",
                            "      <td>0.893406</td>\n",
                            "      <td>0.891304</td>\n",
                            "      <td>0.002021</td>\n",
                            "      <td>2</td>\n",
                            "    </tr>\n",
                            "    <tr>\n",
                            "      <th>10</th>\n",
                            "      <td>14.185214</td>\n",
                            "      <td>0.266513</td>\n",
                            "      <td>0.159836</td>\n",
                            "      <td>0.002995</td>\n",
                            "      <td>0.5</td>\n",
                            "      <td>100</td>\n",
                            "      <td>{'learning_rate': 0.5, 'n_estimators': 100}</td>\n",
                            "      <td>0.888019</td>\n",
                            "      <td>0.886781</td>\n",
                            "      <td>0.888588</td>\n",
                            "      <td>0.897019</td>\n",
                            "      <td>0.891298</td>\n",
                            "      <td>0.890341</td>\n",
                            "      <td>0.003651</td>\n",
                            "      <td>3</td>\n",
                            "    </tr>\n",
                            "    <tr>\n",
                            "      <th>11</th>\n",
                            "      <td>27.885522</td>\n",
                            "      <td>0.508338</td>\n",
                            "      <td>0.274462</td>\n",
                            "      <td>0.039832</td>\n",
                            "      <td>0.5</td>\n",
                            "      <td>200</td>\n",
                            "      <td>{'learning_rate': 0.5, 'n_estimators': 200}</td>\n",
                            "      <td>0.888320</td>\n",
                            "      <td>0.889491</td>\n",
                            "      <td>0.888287</td>\n",
                            "      <td>0.891900</td>\n",
                            "      <td>0.892201</td>\n",
                            "      <td>0.890040</td>\n",
                            "      <td>0.001701</td>\n",
                            "      <td>4</td>\n",
                            "    </tr>\n",
                            "    <tr>\n",
                            "      <th>3</th>\n",
                            "      <td>28.035955</td>\n",
                            "      <td>0.818235</td>\n",
                            "      <td>0.308671</td>\n",
                            "      <td>0.007447</td>\n",
                            "      <td>0.1</td>\n",
                            "      <td>200</td>\n",
                            "      <td>{'learning_rate': 0.1, 'n_estimators': 200}</td>\n",
                            "      <td>0.890427</td>\n",
                            "      <td>0.885878</td>\n",
                            "      <td>0.883469</td>\n",
                            "      <td>0.891599</td>\n",
                            "      <td>0.892803</td>\n",
                            "      <td>0.888835</td>\n",
                            "      <td>0.003563</td>\n",
                            "      <td>5</td>\n",
                            "    </tr>\n",
                            "    <tr>\n",
                            "      <th>6</th>\n",
                            "      <td>13.953363</td>\n",
                            "      <td>0.468325</td>\n",
                            "      <td>0.159836</td>\n",
                            "      <td>0.006855</td>\n",
                            "      <td>0.2</td>\n",
                            "      <td>100</td>\n",
                            "      <td>{'learning_rate': 0.2, 'n_estimators': 100}</td>\n",
                            "      <td>0.888621</td>\n",
                            "      <td>0.890997</td>\n",
                            "      <td>0.885276</td>\n",
                            "      <td>0.886179</td>\n",
                            "      <td>0.891599</td>\n",
                            "      <td>0.888534</td>\n",
                            "      <td>0.002515</td>\n",
                            "      <td>6</td>\n",
                            "    </tr>\n",
                            "    <tr>\n",
                            "      <th>5</th>\n",
                            "      <td>6.892161</td>\n",
                            "      <td>0.143363</td>\n",
                            "      <td>0.078218</td>\n",
                            "      <td>0.003312</td>\n",
                            "      <td>0.2</td>\n",
                            "      <td>50</td>\n",
                            "      <td>{'learning_rate': 0.2, 'n_estimators': 50}</td>\n",
                            "      <td>0.889825</td>\n",
                            "      <td>0.884673</td>\n",
                            "      <td>0.884673</td>\n",
                            "      <td>0.893104</td>\n",
                            "      <td>0.889491</td>\n",
                            "      <td>0.888354</td>\n",
                            "      <td>0.003259</td>\n",
                            "      <td>7</td>\n",
                            "    </tr>\n",
                            "    <tr>\n",
                            "      <th>0</th>\n",
                            "      <td>3.353157</td>\n",
                            "      <td>0.175739</td>\n",
                            "      <td>0.042810</td>\n",
                            "      <td>0.006495</td>\n",
                            "      <td>0.1</td>\n",
                            "      <td>25</td>\n",
                            "      <td>{'learning_rate': 0.1, 'n_estimators': 25}</td>\n",
                            "      <td>0.888320</td>\n",
                            "      <td>0.885878</td>\n",
                            "      <td>0.884071</td>\n",
                            "      <td>0.888287</td>\n",
                            "      <td>0.894911</td>\n",
                            "      <td>0.888293</td>\n",
                            "      <td>0.003673</td>\n",
                            "      <td>8</td>\n",
                            "    </tr>\n",
                            "    <tr>\n",
                            "      <th>2</th>\n",
                            "      <td>13.809330</td>\n",
                            "      <td>0.517455</td>\n",
                            "      <td>0.154036</td>\n",
                            "      <td>0.005551</td>\n",
                            "      <td>0.1</td>\n",
                            "      <td>100</td>\n",
                            "      <td>{'learning_rate': 0.1, 'n_estimators': 100}</td>\n",
                            "      <td>0.889825</td>\n",
                            "      <td>0.888588</td>\n",
                            "      <td>0.878952</td>\n",
                            "      <td>0.891599</td>\n",
                            "      <td>0.889491</td>\n",
                            "      <td>0.887691</td>\n",
                            "      <td>0.004478</td>\n",
                            "      <td>9</td>\n",
                            "    </tr>\n",
                            "    <tr>\n",
                            "      <th>1</th>\n",
                            "      <td>6.922368</td>\n",
                            "      <td>0.307095</td>\n",
                            "      <td>0.075617</td>\n",
                            "      <td>0.004500</td>\n",
                            "      <td>0.1</td>\n",
                            "      <td>50</td>\n",
                            "      <td>{'learning_rate': 0.1, 'n_estimators': 50}</td>\n",
                            "      <td>0.885310</td>\n",
                            "      <td>0.885276</td>\n",
                            "      <td>0.882867</td>\n",
                            "      <td>0.888889</td>\n",
                            "      <td>0.890093</td>\n",
                            "      <td>0.886487</td>\n",
                            "      <td>0.002636</td>\n",
                            "      <td>10</td>\n",
                            "    </tr>\n",
                            "  </tbody>\n",
                            "</table>\n",
                            "</div>"
                        ],
                        "text/plain": [
                            "    mean_fit_time  std_fit_time  mean_score_time  std_score_time  \\\n",
                            "15      20.620076      1.236207         0.191652        0.009135   \n",
                            "14      13.620687      0.339516         0.148635        0.013233   \n",
                            "10      14.185214      0.266513         0.159836        0.002995   \n",
                            "11      27.885522      0.508338         0.274462        0.039832   \n",
                            "3       28.035955      0.818235         0.308671        0.007447   \n",
                            "6       13.953363      0.468325         0.159836        0.006855   \n",
                            "5        6.892161      0.143363         0.078218        0.003312   \n",
                            "0        3.353157      0.175739         0.042810        0.006495   \n",
                            "2       13.809330      0.517455         0.154036        0.005551   \n",
                            "1        6.922368      0.307095         0.075617        0.004500   \n",
                            "\n",
                            "   param_learning_rate param_n_estimators  \\\n",
                            "15                   1                200   \n",
                            "14                   1                100   \n",
                            "10                 0.5                100   \n",
                            "11                 0.5                200   \n",
                            "3                  0.1                200   \n",
                            "6                  0.2                100   \n",
                            "5                  0.2                 50   \n",
                            "0                  0.1                 25   \n",
                            "2                  0.1                100   \n",
                            "1                  0.1                 50   \n",
                            "\n",
                            "                                         params  split0_test_score  \\\n",
                            "15    {'learning_rate': 1, 'n_estimators': 200}           0.893438   \n",
                            "14    {'learning_rate': 1, 'n_estimators': 100}           0.890126   \n",
                            "10  {'learning_rate': 0.5, 'n_estimators': 100}           0.888019   \n",
                            "11  {'learning_rate': 0.5, 'n_estimators': 200}           0.888320   \n",
                            "3   {'learning_rate': 0.1, 'n_estimators': 200}           0.890427   \n",
                            "6   {'learning_rate': 0.2, 'n_estimators': 100}           0.888621   \n",
                            "5    {'learning_rate': 0.2, 'n_estimators': 50}           0.889825   \n",
                            "0    {'learning_rate': 0.1, 'n_estimators': 25}           0.888320   \n",
                            "2   {'learning_rate': 0.1, 'n_estimators': 100}           0.889825   \n",
                            "1    {'learning_rate': 0.1, 'n_estimators': 50}           0.885310   \n",
                            "\n",
                            "    split1_test_score  split2_test_score  split3_test_score  \\\n",
                            "15           0.889491           0.890093           0.895513   \n",
                            "14           0.893104           0.887986           0.891900   \n",
                            "10           0.886781           0.888588           0.897019   \n",
                            "11           0.889491           0.888287           0.891900   \n",
                            "3            0.885878           0.883469           0.891599   \n",
                            "6            0.890997           0.885276           0.886179   \n",
                            "5            0.884673           0.884673           0.893104   \n",
                            "0            0.885878           0.884071           0.888287   \n",
                            "2            0.888588           0.878952           0.891599   \n",
                            "1            0.885276           0.882867           0.888889   \n",
                            "\n",
                            "    split4_test_score  mean_test_score  std_test_score  rank_test_score  \n",
                            "15           0.898826         0.893472        0.003467                1  \n",
                            "14           0.893406         0.891304        0.002021                2  \n",
                            "10           0.891298         0.890341        0.003651                3  \n",
                            "11           0.892201         0.890040        0.001701                4  \n",
                            "3            0.892803         0.888835        0.003563                5  \n",
                            "6            0.891599         0.888534        0.002515                6  \n",
                            "5            0.889491         0.888354        0.003259                7  \n",
                            "0            0.894911         0.888293        0.003673                8  \n",
                            "2            0.889491         0.887691        0.004478                9  \n",
                            "1            0.890093         0.886487        0.002636               10  "
                        ]
                    },
                    "execution_count": 18,
                    "metadata": {},
                    "output_type": "execute_result"
                }
            ],
            "source": [
                "tuning_results.sort_values('rank_test_score').head(10)"
            ]
        },
        {
            "cell_type": "code",
            "execution_count": 19,
            "metadata": {},
            "outputs": [
                {
                    "data": {
                        "text/plain": [
                            "{'learning_rate': 1, 'n_estimators': 200}"
                        ]
                    },
                    "execution_count": 19,
                    "metadata": {},
                    "output_type": "execute_result"
                }
            ],
            "source": [
                "best_ada_hyperparams"
            ]
        },
        {
            "cell_type": "code",
            "execution_count": 20,
            "metadata": {},
            "outputs": [
                {
                    "name": "stdout",
                    "output_type": "stream",
                    "text": [
                        "              precision    recall  f1-score   support\n",
                        "\n",
                        "           0     0.9960    0.9985    0.9973      2018\n",
                        "           1     0.9980    0.9955    0.9968      2465\n",
                        "           2     0.9979    0.9990    0.9985      1942\n",
                        "           3     1.0000    0.9990    0.9995      2018\n",
                        "           4     0.9996    1.0000    0.9998      2328\n",
                        "           5     1.0000    1.0000    1.0000      2598\n",
                        "           6     1.0000    1.0000    1.0000      3237\n",
                        "\n",
                        "    accuracy                         0.9989     16606\n",
                        "   macro avg     0.9988    0.9989    0.9988     16606\n",
                        "weighted avg     0.9989    0.9989    0.9989     16606\n",
                        "\n"
                    ]
                }
            ],
            "source": [
                "print(classification_report(y_train, best_ada.predict(X_train), digits=4))"
            ]
        },
        {
            "cell_type": "code",
            "execution_count": 21,
            "metadata": {},
            "outputs": [
                {
                    "name": "stdout",
                    "output_type": "stream",
                    "text": [
                        "              precision    recall  f1-score   support\n",
                        "\n",
                        "           0     0.9401    0.9327    0.9364       505\n",
                        "           1     0.8774    0.8817    0.8795       617\n",
                        "           2     0.7768    0.7464    0.7613       485\n",
                        "           3     0.7659    0.8115    0.7881       504\n",
                        "           4     0.8772    0.8711    0.8741       582\n",
                        "           5     0.9674    0.9585    0.9629       650\n",
                        "           6     0.9963    0.9963    0.9963       809\n",
                        "\n",
                        "    accuracy                         0.8964      4152\n",
                        "   macro avg     0.8859    0.8854    0.8855      4152\n",
                        "weighted avg     0.8970    0.8964    0.8966      4152\n",
                        "\n"
                    ]
                }
            ],
            "source": [
                "y_pred_ada = best_ada.predict(X_test)\n",
                "print(classification_report(y_test, y_pred_ada, digits=4))"
            ]
        },
        {
            "cell_type": "markdown",
            "metadata": {},
            "source": [
                "Overfitting might appear here"
            ]
        },
        {
            "cell_type": "code",
            "execution_count": 22,
            "metadata": {},
            "outputs": [
                {
                    "data": {
                        "image/png": "[encoded data removed]",
                        "text/plain": [
                            "<Figure size 576x432 with 2 Axes>"
                        ]
                    },
                    "metadata": {
                        "needs_background": "light"
                    },
                    "output_type": "display_data"
                }
            ],
            "source": [
                "plot_confusion_matrix(y_test, y_pred_ada, 'Confusion Matrix of AdaBoost')"
            ]
        },
        {
            "cell_type": "markdown",
            "metadata": {},
            "source": [
                "#### 3.2.2 | Gradient Boosting"
            ]
        },
        {
            "cell_type": "code",
            "execution_count": 25,
            "metadata": {},
            "outputs": [],
            "source": [
                "grad_clf = GradientBoostingClassifier()\n",
                "param_grid_grad = {\n",
                "    'n_estimators': [50, 100, 200, 500],\n",
                "    'learning_rate':[0.1, 0.2, 0.5, 1, 1.5]\n",
                "}"
            ]
        },
        {
            "cell_type": "code",
            "execution_count": 26,
            "metadata": {},
            "outputs": [],
            "source": [
                "best_grad, best_grad_hyperparams, tuning_results = tune_clf_hyperparameters(grad_clf, param_grid_grad, X_train, y_train)"
            ]
        },
        {
            "cell_type": "code",
            "execution_count": 28,
            "metadata": {},
            "outputs": [
                {
                    "data": {
                        "text/html": [
                            "<div>\n",
                            "<style scoped>\n",
                            "    .dataframe tbody tr th:only-of-type {\n",
                            "        vertical-align: middle;\n",
                            "    }\n",
                            "\n",
                            "    .dataframe tbody tr th {\n",
                            "        vertical-align: top;\n",
                            "    }\n",
                            "\n",
                            "    .dataframe thead th {\n",
                            "        text-align: right;\n",
                            "    }\n",
                            "</style>\n",
                            "<table border=\"1\" class=\"dataframe\">\n",
                            "  <thead>\n",
                            "    <tr style=\"text-align: right;\">\n",
                            "      <th></th>\n",
                            "      <th>mean_fit_time</th>\n",
                            "      <th>std_fit_time</th>\n",
                            "      <th>mean_score_time</th>\n",
                            "      <th>std_score_time</th>\n",
                            "      <th>param_learning_rate</th>\n",
                            "      <th>param_n_estimators</th>\n",
                            "      <th>params</th>\n",
                            "      <th>split0_test_score</th>\n",
                            "      <th>split1_test_score</th>\n",
                            "      <th>split2_test_score</th>\n",
                            "      <th>split3_test_score</th>\n",
                            "      <th>split4_test_score</th>\n",
                            "      <th>mean_test_score</th>\n",
                            "      <th>std_test_score</th>\n",
                            "      <th>rank_test_score</th>\n",
                            "    </tr>\n",
                            "  </thead>\n",
                            "  <tbody>\n",
                            "    <tr>\n",
                            "      <th>2</th>\n",
                            "      <td>36.690918</td>\n",
                            "      <td>0.544217</td>\n",
                            "      <td>0.076218</td>\n",
                            "      <td>0.008185</td>\n",
                            "      <td>0.1</td>\n",
                            "      <td>200</td>\n",
                            "      <td>{'learning_rate': 0.1, 'n_estimators': 200}</td>\n",
                            "      <td>0.904877</td>\n",
                            "      <td>0.901837</td>\n",
                            "      <td>0.896718</td>\n",
                            "      <td>0.905450</td>\n",
                            "      <td>0.910569</td>\n",
                            "      <td>0.903890</td>\n",
                            "      <td>0.004554</td>\n",
                            "      <td>1</td>\n",
                            "    </tr>\n",
                            "    <tr>\n",
                            "      <th>5</th>\n",
                            "      <td>18.642826</td>\n",
                            "      <td>0.305124</td>\n",
                            "      <td>0.040407</td>\n",
                            "      <td>0.002416</td>\n",
                            "      <td>0.2</td>\n",
                            "      <td>100</td>\n",
                            "      <td>{'learning_rate': 0.2, 'n_estimators': 100}</td>\n",
                            "      <td>0.902167</td>\n",
                            "      <td>0.903342</td>\n",
                            "      <td>0.897922</td>\n",
                            "      <td>0.905149</td>\n",
                            "      <td>0.908160</td>\n",
                            "      <td>0.903348</td>\n",
                            "      <td>0.003383</td>\n",
                            "      <td>2</td>\n",
                            "    </tr>\n",
                            "    <tr>\n",
                            "      <th>1</th>\n",
                            "      <td>19.218155</td>\n",
                            "      <td>0.554685</td>\n",
                            "      <td>0.039810</td>\n",
                            "      <td>0.001166</td>\n",
                            "      <td>0.1</td>\n",
                            "      <td>100</td>\n",
                            "      <td>{'learning_rate': 0.1, 'n_estimators': 100}</td>\n",
                            "      <td>0.903371</td>\n",
                            "      <td>0.903342</td>\n",
                            "      <td>0.893707</td>\n",
                            "      <td>0.904246</td>\n",
                            "      <td>0.907859</td>\n",
                            "      <td>0.902505</td>\n",
                            "      <td>0.004702</td>\n",
                            "      <td>3</td>\n",
                            "    </tr>\n",
                            "    <tr>\n",
                            "      <th>3</th>\n",
                            "      <td>93.553211</td>\n",
                            "      <td>1.607135</td>\n",
                            "      <td>0.177239</td>\n",
                            "      <td>0.007834</td>\n",
                            "      <td>0.1</td>\n",
                            "      <td>500</td>\n",
                            "      <td>{'learning_rate': 0.1, 'n_estimators': 500}</td>\n",
                            "      <td>0.901565</td>\n",
                            "      <td>0.903342</td>\n",
                            "      <td>0.899127</td>\n",
                            "      <td>0.901235</td>\n",
                            "      <td>0.906354</td>\n",
                            "      <td>0.902325</td>\n",
                            "      <td>0.002419</td>\n",
                            "      <td>4</td>\n",
                            "    </tr>\n",
                            "    <tr>\n",
                            "      <th>6</th>\n",
                            "      <td>38.280750</td>\n",
                            "      <td>0.895178</td>\n",
                            "      <td>0.074545</td>\n",
                            "      <td>0.004786</td>\n",
                            "      <td>0.2</td>\n",
                            "      <td>200</td>\n",
                            "      <td>{'learning_rate': 0.2, 'n_estimators': 200}</td>\n",
                            "      <td>0.897953</td>\n",
                            "      <td>0.900331</td>\n",
                            "      <td>0.898223</td>\n",
                            "      <td>0.905149</td>\n",
                            "      <td>0.907257</td>\n",
                            "      <td>0.901783</td>\n",
                            "      <td>0.003761</td>\n",
                            "      <td>5</td>\n",
                            "    </tr>\n",
                            "    <tr>\n",
                            "      <th>4</th>\n",
                            "      <td>9.240294</td>\n",
                            "      <td>0.259719</td>\n",
                            "      <td>0.023205</td>\n",
                            "      <td>0.001165</td>\n",
                            "      <td>0.2</td>\n",
                            "      <td>50</td>\n",
                            "      <td>{'learning_rate': 0.2, 'n_estimators': 50}</td>\n",
                            "      <td>0.901565</td>\n",
                            "      <td>0.905149</td>\n",
                            "      <td>0.890394</td>\n",
                            "      <td>0.905751</td>\n",
                            "      <td>0.905751</td>\n",
                            "      <td>0.901722</td>\n",
                            "      <td>0.005875</td>\n",
                            "      <td>6</td>\n",
                            "    </tr>\n",
                            "    <tr>\n",
                            "      <th>7</th>\n",
                            "      <td>98.853087</td>\n",
                            "      <td>1.300606</td>\n",
                            "      <td>0.198148</td>\n",
                            "      <td>0.029530</td>\n",
                            "      <td>0.2</td>\n",
                            "      <td>500</td>\n",
                            "      <td>{'learning_rate': 0.2, 'n_estimators': 500}</td>\n",
                            "      <td>0.895545</td>\n",
                            "      <td>0.897922</td>\n",
                            "      <td>0.895815</td>\n",
                            "      <td>0.894610</td>\n",
                            "      <td>0.902138</td>\n",
                            "      <td>0.897206</td>\n",
                            "      <td>0.002693</td>\n",
                            "      <td>7</td>\n",
                            "    </tr>\n",
                            "    <tr>\n",
                            "      <th>8</th>\n",
                            "      <td>9.538962</td>\n",
                            "      <td>0.401214</td>\n",
                            "      <td>0.021806</td>\n",
                            "      <td>0.000748</td>\n",
                            "      <td>0.5</td>\n",
                            "      <td>50</td>\n",
                            "      <td>{'learning_rate': 0.5, 'n_estimators': 50}</td>\n",
                            "      <td>0.894040</td>\n",
                            "      <td>0.899428</td>\n",
                            "      <td>0.888287</td>\n",
                            "      <td>0.902740</td>\n",
                            "      <td>0.900933</td>\n",
                            "      <td>0.897086</td>\n",
                            "      <td>0.005272</td>\n",
                            "      <td>8</td>\n",
                            "    </tr>\n",
                            "    <tr>\n",
                            "      <th>0</th>\n",
                            "      <td>9.605775</td>\n",
                            "      <td>0.379998</td>\n",
                            "      <td>0.034608</td>\n",
                            "      <td>0.017775</td>\n",
                            "      <td>0.1</td>\n",
                            "      <td>50</td>\n",
                            "      <td>{'learning_rate': 0.1, 'n_estimators': 50}</td>\n",
                            "      <td>0.896147</td>\n",
                            "      <td>0.896417</td>\n",
                            "      <td>0.887383</td>\n",
                            "      <td>0.898826</td>\n",
                            "      <td>0.901536</td>\n",
                            "      <td>0.896062</td>\n",
                            "      <td>0.004755</td>\n",
                            "      <td>9</td>\n",
                            "    </tr>\n",
                            "    <tr>\n",
                            "      <th>9</th>\n",
                            "      <td>19.599243</td>\n",
                            "      <td>0.101542</td>\n",
                            "      <td>0.043010</td>\n",
                            "      <td>0.005552</td>\n",
                            "      <td>0.5</td>\n",
                            "      <td>100</td>\n",
                            "      <td>{'learning_rate': 0.5, 'n_estimators': 100}</td>\n",
                            "      <td>0.891632</td>\n",
                            "      <td>0.897320</td>\n",
                            "      <td>0.828365</td>\n",
                            "      <td>0.902138</td>\n",
                            "      <td>0.900331</td>\n",
                            "      <td>0.883957</td>\n",
                            "      <td>0.028024</td>\n",
                            "      <td>10</td>\n",
                            "    </tr>\n",
                            "  </tbody>\n",
                            "</table>\n",
                            "</div>"
                        ],
                        "text/plain": [
                            "   mean_fit_time  std_fit_time  mean_score_time  std_score_time  \\\n",
                            "2      36.690918      0.544217         0.076218        0.008185   \n",
                            "5      18.642826      0.305124         0.040407        0.002416   \n",
                            "1      19.218155      0.554685         0.039810        0.001166   \n",
                            "3      93.553211      1.607135         0.177239        0.007834   \n",
                            "6      38.280750      0.895178         0.074545        0.004786   \n",
                            "4       9.240294      0.259719         0.023205        0.001165   \n",
                            "7      98.853087      1.300606         0.198148        0.029530   \n",
                            "8       9.538962      0.401214         0.021806        0.000748   \n",
                            "0       9.605775      0.379998         0.034608        0.017775   \n",
                            "9      19.599243      0.101542         0.043010        0.005552   \n",
                            "\n",
                            "  param_learning_rate param_n_estimators  \\\n",
                            "2                 0.1                200   \n",
                            "5                 0.2                100   \n",
                            "1                 0.1                100   \n",
                            "3                 0.1                500   \n",
                            "6                 0.2                200   \n",
                            "4                 0.2                 50   \n",
                            "7                 0.2                500   \n",
                            "8                 0.5                 50   \n",
                            "0                 0.1                 50   \n",
                            "9                 0.5                100   \n",
                            "\n",
                            "                                        params  split0_test_score  \\\n",
                            "2  {'learning_rate': 0.1, 'n_estimators': 200}           0.904877   \n",
                            "5  {'learning_rate': 0.2, 'n_estimators': 100}           0.902167   \n",
                            "1  {'learning_rate': 0.1, 'n_estimators': 100}           0.903371   \n",
                            "3  {'learning_rate': 0.1, 'n_estimators': 500}           0.901565   \n",
                            "6  {'learning_rate': 0.2, 'n_estimators': 200}           0.897953   \n",
                            "4   {'learning_rate': 0.2, 'n_estimators': 50}           0.901565   \n",
                            "7  {'learning_rate': 0.2, 'n_estimators': 500}           0.895545   \n",
                            "8   {'learning_rate': 0.5, 'n_estimators': 50}           0.894040   \n",
                            "0   {'learning_rate': 0.1, 'n_estimators': 50}           0.896147   \n",
                            "9  {'learning_rate': 0.5, 'n_estimators': 100}           0.891632   \n",
                            "\n",
                            "   split1_test_score  split2_test_score  split3_test_score  split4_test_score  \\\n",
                            "2           0.901837           0.896718           0.905450           0.910569   \n",
                            "5           0.903342           0.897922           0.905149           0.908160   \n",
                            "1           0.903342           0.893707           0.904246           0.907859   \n",
                            "3           0.903342           0.899127           0.901235           0.906354   \n",
                            "6           0.900331           0.898223           0.905149           0.907257   \n",
                            "4           0.905149           0.890394           0.905751           0.905751   \n",
                            "7           0.897922           0.895815           0.894610           0.902138   \n",
                            "8           0.899428           0.888287           0.902740           0.900933   \n",
                            "0           0.896417           0.887383           0.898826           0.901536   \n",
                            "9           0.897320           0.828365           0.902138           0.900331   \n",
                            "\n",
                            "   mean_test_score  std_test_score  rank_test_score  \n",
                            "2         0.903890        0.004554                1  \n",
                            "5         0.903348        0.003383                2  \n",
                            "1         0.902505        0.004702                3  \n",
                            "3         0.902325        0.002419                4  \n",
                            "6         0.901783        0.003761                5  \n",
                            "4         0.901722        0.005875                6  \n",
                            "7         0.897206        0.002693                7  \n",
                            "8         0.897086        0.005272                8  \n",
                            "0         0.896062        0.004755                9  \n",
                            "9         0.883957        0.028024               10  "
                        ]
                    },
                    "execution_count": 28,
                    "metadata": {},
                    "output_type": "execute_result"
                }
            ],
            "source": [
                "tuning_results.sort_values('rank_test_score').head(10)"
            ]
        },
        {
            "cell_type": "code",
            "execution_count": 29,
            "metadata": {},
            "outputs": [
                {
                    "data": {
                        "text/plain": [
                            "{'learning_rate': 0.1, 'n_estimators': 200}"
                        ]
                    },
                    "execution_count": 29,
                    "metadata": {},
                    "output_type": "execute_result"
                }
            ],
            "source": [
                "best_grad_hyperparams"
            ]
        },
        {
            "cell_type": "code",
            "execution_count": 30,
            "metadata": {},
            "outputs": [
                {
                    "name": "stdout",
                    "output_type": "stream",
                    "text": [
                        "              precision    recall  f1-score   support\n",
                        "\n",
                        "           0     0.9585    0.9604    0.9594      2018\n",
                        "           1     0.9097    0.9201    0.9149      2465\n",
                        "           2     0.8604    0.8347    0.8474      1942\n",
                        "           3     0.8706    0.8835    0.8770      2018\n",
                        "           4     0.9418    0.9377    0.9397      2328\n",
                        "           5     0.9866    0.9896    0.9881      2598\n",
                        "           6     1.0000    0.9994    0.9997      3237\n",
                        "\n",
                        "    accuracy                         0.9394     16606\n",
                        "   macro avg     0.9325    0.9322    0.9323     16606\n",
                        "weighted avg     0.9392    0.9394    0.9393     16606\n",
                        "\n"
                    ]
                }
            ],
            "source": [
                "print(classification_report(y_train, best_grad.predict(X_train), digits=4))"
            ]
        },
        {
            "cell_type": "code",
            "execution_count": 31,
            "metadata": {},
            "outputs": [
                {
                    "name": "stdout",
                    "output_type": "stream",
                    "text": [
                        "              precision    recall  f1-score   support\n",
                        "\n",
                        "           0     0.9320    0.9505    0.9412       505\n",
                        "           1     0.8778    0.8849    0.8814       617\n",
                        "           2     0.8190    0.7649    0.7910       485\n",
                        "           3     0.7950    0.8155    0.8051       504\n",
                        "           4     0.8790    0.8866    0.8828       582\n",
                        "           5     0.9707    0.9692    0.9700       650\n",
                        "           6     0.9963    0.9963    0.9963       809\n",
                        "\n",
                        "    accuracy                         0.9056      4152\n",
                        "   macro avg     0.8957    0.8954    0.8954      4152\n",
                        "weighted avg     0.9053    0.9056    0.9053      4152\n",
                        "\n"
                    ]
                }
            ],
            "source": [
                "y_pred_grad = best_grad.predict(X_test)\n",
                "print(classification_report(y_test, best_grad.predict(X_test), digits=4))"
            ]
        },
        {
            "cell_type": "code",
            "execution_count": 32,
            "metadata": {},
            "outputs": [
                {
                    "data": {
                        "image/png": "[encoded data removed]",
                        "text/plain": [
                            "<Figure size 576x432 with 2 Axes>"
                        ]
                    },
                    "metadata": {
                        "needs_background": "light"
                    },
                    "output_type": "display_data"
                }
            ],
            "source": [
                "plot_confusion_matrix(y_test, y_pred_grad, 'Confusion Matrix of Gradient Boosting')"
            ]
        }
    ],
    "metadata": {
        "kernelspec": {
            "display_name": "base",
            "language": "python",
            "name": "python3"
        },
        "language_info": {
            "codemirror_mode": {
                "name": "ipython",
                "version": 3
            },
            "file_extension": ".py",
            "mimetype": "text/x-python",
            "name": "python",
            "nbconvert_exporter": "python",
            "pygments_lexer": "ipython3",
            "version": "3.7.1"
        }
    },
    "nbformat": 4,
    "nbformat_minor": 2
}
