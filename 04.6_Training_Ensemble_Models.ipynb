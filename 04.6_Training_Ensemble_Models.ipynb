{
    "cells": [
        {
            "cell_type": "markdown",
            "metadata": {},
            "source": [
                "## Training Ensemble Models"
            ]
        },
        {
            "cell_type": "markdown",
            "metadata": {},
            "source": [
                "### Step 1 | Import libraries"
            ]
        },
        {
            "cell_type": "code",
            "execution_count": 1,
            "metadata": {},
            "outputs": [
                {
                    "name": "stderr",
                    "output_type": "stream",
                    "text": [
                        "C:\\Users\\FPT Shop\\AppData\\Roaming\\Python\\Python37\\site-packages\\pandas\\compat\\_optional.py:138: UserWarning: Pandas requires version '2.7.0' or newer of 'numexpr' (version '2.6.8' currently installed).\n",
                        "  warnings.warn(msg, UserWarning)\n"
                    ]
                }
            ],
            "source": [
                "import seaborn as sns\n",
                "import matplotlib.pyplot as plt\n",
                "import warnings\n",
                "import numpy as np\n",
                "import pandas as pd\n",
                "from sklearn.preprocessing import StandardScaler\n",
                "from sklearn.pipeline import Pipeline\n",
                "from sklearn.metrics import confusion_matrix ,classification_report, mean_absolute_error, log_loss\n",
                "from sklearn.ensemble import AdaBoostClassifier, GradientBoostingClassifier, VotingClassifier, RandomForestClassifier\n",
                "from sklearn.svm import SVC\n",
                "from sklearn.neighbors import KNeighborsClassifier\n",
                "from sklearn.tree import DecisionTreeClassifier\n",
                "from tune_clf_hyperparameters import tune_clf_hyperparameters\n",
                "from plot_confusion_matrix import plot_confusion_matrix\n",
                "from sklearn.feature_selection import SelectFromModel\n",
                "warnings.filterwarnings(\"ignore\")"
            ]
        },
        {
            "cell_type": "markdown",
            "metadata": {},
            "source": [
                "### Step 2 | Import dataset"
            ]
        },
        {
            "cell_type": "code",
            "execution_count": 2,
            "metadata": {},
            "outputs": [],
            "source": [
                "train_df = pd.read_csv('./data/preprocessed_train_df.csv')\n",
                "test_df = pd.read_csv('./data/preprocessed_test_data.csv')"
            ]
        },
        {
            "cell_type": "code",
            "execution_count": 3,
            "metadata": {},
            "outputs": [],
            "source": [
                "X_train = train_df.drop(columns=['NObeyesdad'])\n",
                "y_train = train_df['NObeyesdad']\n",
                "X_test = test_df.drop(columns=['NObeyesdad'])\n",
                "y_test = test_df['NObeyesdad']"
            ]
        },
        {
            "cell_type": "markdown",
            "metadata": {},
            "source": [
                "### Step 3 | Training"
            ]
        },
        {
            "cell_type": "markdown",
            "metadata": {},
            "source": [
                "### 3.1 | Voting "
            ]
        },
        {
            "cell_type": "code",
            "execution_count": 4,
            "metadata": {},
            "outputs": [],
            "source": [
                "svm_pipeline = Pipeline([\n",
                "    ('scaler', StandardScaler()),\n",
                "    ('svm', SVC(probability=True, C = 5, kernel='linear'))\n",
                "])"
            ]
        },
        {
            "cell_type": "code",
            "execution_count": 5,
            "metadata": {},
            "outputs": [],
            "source": [
                "knn_pipeline = Pipeline([\n",
                "    ('scaler', StandardScaler()),\n",
                "    ('knn', KNeighborsClassifier(\n",
                "        metric= 'manhattan',\n",
                "        n_neighbors= 17,\n",
                "        weights= 'distance'\n",
                "    ))\n",
                "])"
            ]
        },
        {
            "cell_type": "code",
            "execution_count": 6,
            "metadata": {},
            "outputs": [],
            "source": [
                "eclf = VotingClassifier(estimators=[\n",
                "    ('svm', svm_pipeline),\n",
                "    ('dt', DecisionTreeClassifier(\n",
                "        criterion= 'entropy',\n",
                "        max_depth= 11,\n",
                "        max_features= None,\n",
                "        min_samples_leaf= 10,\n",
                "        min_samples_split= 2,\n",
                "        splitter= 'best'\n",
                "    )),\n",
                "    ('rf', RandomForestClassifier(\n",
                "        criterion= 'entropy',\n",
                "        max_depth= None,\n",
                "        max_features= 'sqrt',\n",
                "        n_estimators= 900\n",
                "    )),\n",
                "    ('knn', knn_pipeline)],\n",
                "    voting='soft'\n",
                ")"
            ]
        },
        {
            "cell_type": "code",
            "execution_count": 7,
            "metadata": {},
            "outputs": [
                {
                    "data": {
                        "text/plain": [
                            "VotingClassifier(estimators=[('svm',\n",
                            "                              Pipeline(steps=[('scaler', StandardScaler()),\n",
                            "                                              ('svm',\n",
                            "                                               SVC(C=5, kernel='linear',\n",
                            "                                                   probability=True))])),\n",
                            "                             ('dt',\n",
                            "                              DecisionTreeClassifier(criterion='entropy',\n",
                            "                                                     max_depth=11,\n",
                            "                                                     min_samples_leaf=10)),\n",
                            "                             ('rf',\n",
                            "                              RandomForestClassifier(criterion='entropy',\n",
                            "                                                     max_features='sqrt',\n",
                            "                                                     n_estimators=900)),\n",
                            "                             ('knn',\n",
                            "                              Pipeline(steps=[('scaler', StandardScaler()),\n",
                            "                                              ('knn',\n",
                            "                                               KNeighborsClassifier(metric='manhattan',\n",
                            "                                                                    n_neighbors=17,\n",
                            "                                                                    weights='distance'))]))],\n",
                            "                 voting='soft')"
                        ]
                    },
                    "execution_count": 7,
                    "metadata": {},
                    "output_type": "execute_result"
                }
            ],
            "source": [
                "eclf.fit(X_train, y_train)"
            ]
        },
        {
            "cell_type": "code",
            "execution_count": 8,
            "metadata": {},
            "outputs": [
                {
                    "name": "stdout",
                    "output_type": "stream",
                    "text": [
                        "              precision    recall  f1-score   support\n",
                        "\n",
                        "           0     0.9799    0.9901    0.9850      2018\n",
                        "           1     0.9791    0.9862    0.9826      2465\n",
                        "           2     0.9875    0.9737    0.9806      1942\n",
                        "           3     0.9920    0.9841    0.9881      2018\n",
                        "           4     0.9866    0.9820    0.9843      2328\n",
                        "           5     0.9912    0.9962    0.9937      2598\n",
                        "           6     0.9981    0.9988    0.9985      3237\n",
                        "\n",
                        "    accuracy                         0.9884     16606\n",
                        "   macro avg     0.9878    0.9873    0.9875     16606\n",
                        "weighted avg     0.9884    0.9884    0.9884     16606\n",
                        "\n"
                    ]
                }
            ],
            "source": [
                "print(classification_report(y_train, eclf.predict(X_train), digits=4))"
            ]
        },
        {
            "cell_type": "code",
            "execution_count": 9,
            "metadata": {},
            "outputs": [
                {
                    "name": "stdout",
                    "output_type": "stream",
                    "text": [
                        "              precision    recall  f1-score   support\n",
                        "\n",
                        "           0     0.9171    0.9644    0.9402       505\n",
                        "           1     0.8713    0.8671    0.8692       617\n",
                        "           2     0.8263    0.7258    0.7728       485\n",
                        "           3     0.7955    0.8413    0.8177       504\n",
                        "           4     0.8849    0.8849    0.8849       582\n",
                        "           5     0.9589    0.9692    0.9640       650\n",
                        "           6     0.9963    0.9963    0.9963       809\n",
                        "\n",
                        "    accuracy                         0.9029      4152\n",
                        "   macro avg     0.8929    0.8927    0.8922      4152\n",
                        "weighted avg     0.9024    0.9029    0.9021      4152\n",
                        "\n"
                    ]
                }
            ],
            "source": [
                "y_pred = eclf.predict(X_test)\n",
                "print(classification_report(y_test, y_pred, digits=4))"
            ]
        },
        {
            "cell_type": "code",
            "execution_count": 10,
            "metadata": {},
            "outputs": [
                {
                    "data": {
                        "image/png": "[encoded data removed]",
                        "text/plain": [
                            "<Figure size 576x432 with 2 Axes>"
                        ]
                    },
                    "metadata": {
                        "needs_background": "light"
                    },
                    "output_type": "display_data"
                }
            ],
            "source": [
                "plot_confusion_matrix(y_test, y_pred, 'Confusion Matrix of Voting Classifier')"
            ]
        },
        {
            "cell_type": "markdown",
            "metadata": {},
            "source": [
                "### 3.2 | Boosting"
            ]
        },
        {
            "cell_type": "markdown",
            "metadata": {},
            "source": [
                "#### 3.2.1 | AdaBoost"
            ]
        },
        {
            "cell_type": "code",
            "execution_count": 11,
            "metadata": {},
            "outputs": [],
            "source": [
                "ada_clf = AdaBoostClassifier(\n",
                "    DecisionTreeClassifier(\n",
                "        criterion = 'entropy',\n",
                "        max_depth = 11,\n",
                "        min_samples_leaf = 10,\n",
                "        min_samples_split = 2,\n",
                "        splitter = 'best'\n",
                "))\n"
            ]
        },
        {
            "cell_type": "code",
            "execution_count": 12,
            "metadata": {},
            "outputs": [],
            "source": [
                "para_grid_ada = {\n",
                "    'n_estimators': [25, 50, 100, 200, 500],\n",
                "    'learning_rate': [0.1, 0.2, 0.5, 1]\n",
                "}"
            ]
        },
        {
            "cell_type": "code",
            "execution_count": 13,
            "metadata": {},
            "outputs": [],
            "source": [
                "best_ada, best_ada_hyperparams, tuning_results = tune_clf_hyperparameters(ada_clf, para_grid_ada, X_train, y_train)"
            ]
        },
        {
            "cell_type": "code",
            "execution_count": 14,
            "metadata": {},
            "outputs": [
                {
                    "data": {
                        "text/html": [
                            "<div>\n",
                            "<style scoped>\n",
                            "    .dataframe tbody tr th:only-of-type {\n",
                            "        vertical-align: middle;\n",
                            "    }\n",
                            "\n",
                            "    .dataframe tbody tr th {\n",
                            "        vertical-align: top;\n",
                            "    }\n",
                            "\n",
                            "    .dataframe thead th {\n",
                            "        text-align: right;\n",
                            "    }\n",
                            "</style>\n",
                            "<table border=\"1\" class=\"dataframe\">\n",
                            "  <thead>\n",
                            "    <tr style=\"text-align: right;\">\n",
                            "      <th></th>\n",
                            "      <th>mean_fit_time</th>\n",
                            "      <th>std_fit_time</th>\n",
                            "      <th>mean_score_time</th>\n",
                            "      <th>std_score_time</th>\n",
                            "      <th>param_learning_rate</th>\n",
                            "      <th>param_n_estimators</th>\n",
                            "      <th>params</th>\n",
                            "      <th>split0_test_score</th>\n",
                            "      <th>split1_test_score</th>\n",
                            "      <th>split2_test_score</th>\n",
                            "      <th>split3_test_score</th>\n",
                            "      <th>split4_test_score</th>\n",
                            "      <th>mean_test_score</th>\n",
                            "      <th>std_test_score</th>\n",
                            "      <th>rank_test_score</th>\n",
                            "    </tr>\n",
                            "  </thead>\n",
                            "  <tbody>\n",
                            "    <tr>\n",
                            "      <th>19</th>\n",
                            "      <td>51.341941</td>\n",
                            "      <td>4.085899</td>\n",
                            "      <td>0.478503</td>\n",
                            "      <td>0.020387</td>\n",
                            "      <td>1</td>\n",
                            "      <td>500</td>\n",
                            "      <td>{'learning_rate': 1, 'n_estimators': 500}</td>\n",
                            "      <td>0.890427</td>\n",
                            "      <td>0.890696</td>\n",
                            "      <td>0.891900</td>\n",
                            "      <td>0.897922</td>\n",
                            "      <td>0.894008</td>\n",
                            "      <td>0.892991</td>\n",
                            "      <td>0.002771</td>\n",
                            "      <td>1</td>\n",
                            "    </tr>\n",
                            "    <tr>\n",
                            "      <th>13</th>\n",
                            "      <td>29.317648</td>\n",
                            "      <td>0.307624</td>\n",
                            "      <td>0.329275</td>\n",
                            "      <td>0.022476</td>\n",
                            "      <td>0.5</td>\n",
                            "      <td>200</td>\n",
                            "      <td>{'learning_rate': 0.5, 'n_estimators': 200}</td>\n",
                            "      <td>0.889524</td>\n",
                            "      <td>0.888588</td>\n",
                            "      <td>0.888889</td>\n",
                            "      <td>0.894008</td>\n",
                            "      <td>0.898826</td>\n",
                            "      <td>0.891967</td>\n",
                            "      <td>0.003951</td>\n",
                            "      <td>2</td>\n",
                            "    </tr>\n",
                            "    <tr>\n",
                            "      <th>14</th>\n",
                            "      <td>73.848546</td>\n",
                            "      <td>1.543457</td>\n",
                            "      <td>0.756171</td>\n",
                            "      <td>0.098275</td>\n",
                            "      <td>0.5</td>\n",
                            "      <td>500</td>\n",
                            "      <td>{'learning_rate': 0.5, 'n_estimators': 500}</td>\n",
                            "      <td>0.886815</td>\n",
                            "      <td>0.890997</td>\n",
                            "      <td>0.889190</td>\n",
                            "      <td>0.895513</td>\n",
                            "      <td>0.897019</td>\n",
                            "      <td>0.891907</td>\n",
                            "      <td>0.003828</td>\n",
                            "      <td>3</td>\n",
                            "    </tr>\n",
                            "    <tr>\n",
                            "      <th>18</th>\n",
                            "      <td>29.338655</td>\n",
                            "      <td>0.158966</td>\n",
                            "      <td>0.311467</td>\n",
                            "      <td>0.021511</td>\n",
                            "      <td>1</td>\n",
                            "      <td>200</td>\n",
                            "      <td>{'learning_rate': 1, 'n_estimators': 200}</td>\n",
                            "      <td>0.888922</td>\n",
                            "      <td>0.886480</td>\n",
                            "      <td>0.892502</td>\n",
                            "      <td>0.897320</td>\n",
                            "      <td>0.893104</td>\n",
                            "      <td>0.891666</td>\n",
                            "      <td>0.003719</td>\n",
                            "      <td>4</td>\n",
                            "    </tr>\n",
                            "    <tr>\n",
                            "      <th>17</th>\n",
                            "      <td>14.604510</td>\n",
                            "      <td>0.251991</td>\n",
                            "      <td>0.179241</td>\n",
                            "      <td>0.005708</td>\n",
                            "      <td>1</td>\n",
                            "      <td>100</td>\n",
                            "      <td>{'learning_rate': 1, 'n_estimators': 100}</td>\n",
                            "      <td>0.888922</td>\n",
                            "      <td>0.887986</td>\n",
                            "      <td>0.881361</td>\n",
                            "      <td>0.896718</td>\n",
                            "      <td>0.899127</td>\n",
                            "      <td>0.890823</td>\n",
                            "      <td>0.006401</td>\n",
                            "      <td>5</td>\n",
                            "    </tr>\n",
                            "    <tr>\n",
                            "      <th>12</th>\n",
                            "      <td>14.407082</td>\n",
                            "      <td>0.365710</td>\n",
                            "      <td>0.164422</td>\n",
                            "      <td>0.012719</td>\n",
                            "      <td>0.5</td>\n",
                            "      <td>100</td>\n",
                            "      <td>{'learning_rate': 0.5, 'n_estimators': 100}</td>\n",
                            "      <td>0.891030</td>\n",
                            "      <td>0.885878</td>\n",
                            "      <td>0.884673</td>\n",
                            "      <td>0.894610</td>\n",
                            "      <td>0.888588</td>\n",
                            "      <td>0.888956</td>\n",
                            "      <td>0.003584</td>\n",
                            "      <td>6</td>\n",
                            "    </tr>\n",
                            "    <tr>\n",
                            "      <th>3</th>\n",
                            "      <td>29.000483</td>\n",
                            "      <td>1.856604</td>\n",
                            "      <td>0.314071</td>\n",
                            "      <td>0.023737</td>\n",
                            "      <td>0.1</td>\n",
                            "      <td>200</td>\n",
                            "      <td>{'learning_rate': 0.1, 'n_estimators': 200}</td>\n",
                            "      <td>0.891331</td>\n",
                            "      <td>0.886781</td>\n",
                            "      <td>0.876844</td>\n",
                            "      <td>0.891599</td>\n",
                            "      <td>0.896718</td>\n",
                            "      <td>0.888655</td>\n",
                            "      <td>0.006691</td>\n",
                            "      <td>7</td>\n",
                            "    </tr>\n",
                            "    <tr>\n",
                            "      <th>9</th>\n",
                            "      <td>74.479288</td>\n",
                            "      <td>1.206859</td>\n",
                            "      <td>0.890202</td>\n",
                            "      <td>0.076943</td>\n",
                            "      <td>0.2</td>\n",
                            "      <td>500</td>\n",
                            "      <td>{'learning_rate': 0.2, 'n_estimators': 500}</td>\n",
                            "      <td>0.886514</td>\n",
                            "      <td>0.888287</td>\n",
                            "      <td>0.884673</td>\n",
                            "      <td>0.889792</td>\n",
                            "      <td>0.892803</td>\n",
                            "      <td>0.888414</td>\n",
                            "      <td>0.002785</td>\n",
                            "      <td>8</td>\n",
                            "    </tr>\n",
                            "    <tr>\n",
                            "      <th>7</th>\n",
                            "      <td>14.179574</td>\n",
                            "      <td>0.246706</td>\n",
                            "      <td>0.155035</td>\n",
                            "      <td>0.007240</td>\n",
                            "      <td>0.2</td>\n",
                            "      <td>100</td>\n",
                            "      <td>{'learning_rate': 0.2, 'n_estimators': 100}</td>\n",
                            "      <td>0.889825</td>\n",
                            "      <td>0.884974</td>\n",
                            "      <td>0.884673</td>\n",
                            "      <td>0.890093</td>\n",
                            "      <td>0.892201</td>\n",
                            "      <td>0.888354</td>\n",
                            "      <td>0.002999</td>\n",
                            "      <td>9</td>\n",
                            "    </tr>\n",
                            "    <tr>\n",
                            "      <th>2</th>\n",
                            "      <td>13.309818</td>\n",
                            "      <td>0.402605</td>\n",
                            "      <td>0.175840</td>\n",
                            "      <td>0.018534</td>\n",
                            "      <td>0.1</td>\n",
                            "      <td>100</td>\n",
                            "      <td>{'learning_rate': 0.1, 'n_estimators': 100}</td>\n",
                            "      <td>0.888621</td>\n",
                            "      <td>0.885577</td>\n",
                            "      <td>0.884372</td>\n",
                            "      <td>0.887986</td>\n",
                            "      <td>0.894309</td>\n",
                            "      <td>0.888173</td>\n",
                            "      <td>0.003437</td>\n",
                            "      <td>10</td>\n",
                            "    </tr>\n",
                            "  </tbody>\n",
                            "</table>\n",
                            "</div>"
                        ],
                        "text/plain": [
                            "    mean_fit_time  std_fit_time  mean_score_time  std_score_time  \\\n",
                            "19      51.341941      4.085899         0.478503        0.020387   \n",
                            "13      29.317648      0.307624         0.329275        0.022476   \n",
                            "14      73.848546      1.543457         0.756171        0.098275   \n",
                            "18      29.338655      0.158966         0.311467        0.021511   \n",
                            "17      14.604510      0.251991         0.179241        0.005708   \n",
                            "12      14.407082      0.365710         0.164422        0.012719   \n",
                            "3       29.000483      1.856604         0.314071        0.023737   \n",
                            "9       74.479288      1.206859         0.890202        0.076943   \n",
                            "7       14.179574      0.246706         0.155035        0.007240   \n",
                            "2       13.309818      0.402605         0.175840        0.018534   \n",
                            "\n",
                            "   param_learning_rate param_n_estimators  \\\n",
                            "19                   1                500   \n",
                            "13                 0.5                200   \n",
                            "14                 0.5                500   \n",
                            "18                   1                200   \n",
                            "17                   1                100   \n",
                            "12                 0.5                100   \n",
                            "3                  0.1                200   \n",
                            "9                  0.2                500   \n",
                            "7                  0.2                100   \n",
                            "2                  0.1                100   \n",
                            "\n",
                            "                                         params  split0_test_score  \\\n",
                            "19    {'learning_rate': 1, 'n_estimators': 500}           0.890427   \n",
                            "13  {'learning_rate': 0.5, 'n_estimators': 200}           0.889524   \n",
                            "14  {'learning_rate': 0.5, 'n_estimators': 500}           0.886815   \n",
                            "18    {'learning_rate': 1, 'n_estimators': 200}           0.888922   \n",
                            "17    {'learning_rate': 1, 'n_estimators': 100}           0.888922   \n",
                            "12  {'learning_rate': 0.5, 'n_estimators': 100}           0.891030   \n",
                            "3   {'learning_rate': 0.1, 'n_estimators': 200}           0.891331   \n",
                            "9   {'learning_rate': 0.2, 'n_estimators': 500}           0.886514   \n",
                            "7   {'learning_rate': 0.2, 'n_estimators': 100}           0.889825   \n",
                            "2   {'learning_rate': 0.1, 'n_estimators': 100}           0.888621   \n",
                            "\n",
                            "    split1_test_score  split2_test_score  split3_test_score  \\\n",
                            "19           0.890696           0.891900           0.897922   \n",
                            "13           0.888588           0.888889           0.894008   \n",
                            "14           0.890997           0.889190           0.895513   \n",
                            "18           0.886480           0.892502           0.897320   \n",
                            "17           0.887986           0.881361           0.896718   \n",
                            "12           0.885878           0.884673           0.894610   \n",
                            "3            0.886781           0.876844           0.891599   \n",
                            "9            0.888287           0.884673           0.889792   \n",
                            "7            0.884974           0.884673           0.890093   \n",
                            "2            0.885577           0.884372           0.887986   \n",
                            "\n",
                            "    split4_test_score  mean_test_score  std_test_score  rank_test_score  \n",
                            "19           0.894008         0.892991        0.002771                1  \n",
                            "13           0.898826         0.891967        0.003951                2  \n",
                            "14           0.897019         0.891907        0.003828                3  \n",
                            "18           0.893104         0.891666        0.003719                4  \n",
                            "17           0.899127         0.890823        0.006401                5  \n",
                            "12           0.888588         0.888956        0.003584                6  \n",
                            "3            0.896718         0.888655        0.006691                7  \n",
                            "9            0.892803         0.888414        0.002785                8  \n",
                            "7            0.892201         0.888354        0.002999                9  \n",
                            "2            0.894309         0.888173        0.003437               10  "
                        ]
                    },
                    "execution_count": 14,
                    "metadata": {},
                    "output_type": "execute_result"
                }
            ],
            "source": [
                "tuning_results.sort_values('rank_test_score').head(10)"
            ]
        },
        {
            "cell_type": "code",
            "execution_count": 15,
            "metadata": {},
            "outputs": [
                {
                    "data": {
                        "text/plain": [
                            "{'learning_rate': 1, 'n_estimators': 500}"
                        ]
                    },
                    "execution_count": 15,
                    "metadata": {},
                    "output_type": "execute_result"
                }
            ],
            "source": [
                "best_ada_hyperparams"
            ]
        },
        {
            "cell_type": "code",
            "execution_count": 16,
            "metadata": {},
            "outputs": [
                {
                    "name": "stdout",
                    "output_type": "stream",
                    "text": [
                        "              precision    recall  f1-score   support\n",
                        "\n",
                        "           0     0.9985    0.9995    0.9990      2018\n",
                        "           1     0.9992    0.9988    0.9990      2465\n",
                        "           2     1.0000    0.9995    0.9997      1942\n",
                        "           3     1.0000    1.0000    1.0000      2018\n",
                        "           4     1.0000    1.0000    1.0000      2328\n",
                        "           5     1.0000    1.0000    1.0000      2598\n",
                        "           6     1.0000    1.0000    1.0000      3237\n",
                        "\n",
                        "    accuracy                         0.9997     16606\n",
                        "   macro avg     0.9997    0.9997    0.9997     16606\n",
                        "weighted avg     0.9997    0.9997    0.9997     16606\n",
                        "\n"
                    ]
                }
            ],
            "source": [
                "print(classification_report(y_train, best_ada.predict(X_train), digits=4))"
            ]
        },
        {
            "cell_type": "code",
            "execution_count": 17,
            "metadata": {},
            "outputs": [
                {
                    "name": "stdout",
                    "output_type": "stream",
                    "text": [
                        "              precision    recall  f1-score   support\n",
                        "\n",
                        "           0     0.9415    0.9248    0.9331       505\n",
                        "           1     0.8740    0.8768    0.8754       617\n",
                        "           2     0.7911    0.7732    0.7821       485\n",
                        "           3     0.7931    0.8214    0.8070       504\n",
                        "           4     0.8793    0.8883    0.8838       582\n",
                        "           5     0.9705    0.9615    0.9660       650\n",
                        "           6     0.9963    0.9963    0.9963       809\n",
                        "\n",
                        "    accuracy                         0.9020      4152\n",
                        "   macro avg     0.8923    0.8918    0.8919      4152\n",
                        "weighted avg     0.9024    0.9020    0.9021      4152\n",
                        "\n"
                    ]
                }
            ],
            "source": [
                "y_pred_ada = best_ada.predict(X_test)\n",
                "print(classification_report(y_test, y_pred_ada, digits=4))"
            ]
        },
        {
            "cell_type": "markdown",
            "metadata": {},
            "source": [
                "Overfitting might appear here"
            ]
        },
        {
            "cell_type": "code",
            "execution_count": 18,
            "metadata": {},
            "outputs": [
                {
                    "data": {
                        "image/png": "[encoded data removed]",
                        "text/plain": [
                            "<Figure size 576x432 with 2 Axes>"
                        ]
                    },
                    "metadata": {
                        "needs_background": "light"
                    },
                    "output_type": "display_data"
                }
            ],
            "source": [
                "plot_confusion_matrix(y_test, y_pred_ada, 'Confusion Matrix of AdaBoost')"
            ]
        },
        {
            "cell_type": "markdown",
            "metadata": {},
            "source": [
                "#### 3.2.2 | Gradient Boosting"
            ]
        },
        {
            "cell_type": "code",
            "execution_count": 19,
            "metadata": {},
            "outputs": [],
            "source": [
                "grad_clf = GradientBoostingClassifier()\n",
                "param_grid_grad = {\n",
                "    'n_estimators': [50, 100, 200, 500],\n",
                "    'learning_rate':[0.05, 0.1, 0.2, 0.5, 1],\n",
                "    'max_depth': [3, 5, 10, None]\n",
                "}"
            ]
        },
        {
            "cell_type": "code",
            "execution_count": 20,
            "metadata": {},
            "outputs": [],
            "source": [
                "best_grad, best_grad_hyperparams, tuning_results = tune_clf_hyperparameters(grad_clf, param_grid_grad, X_train, y_train)"
            ]
        },
        {
            "cell_type": "code",
            "execution_count": 21,
            "metadata": {},
            "outputs": [
                {
                    "data": {
                        "text/html": [
                            "<div>\n",
                            "<style scoped>\n",
                            "    .dataframe tbody tr th:only-of-type {\n",
                            "        vertical-align: middle;\n",
                            "    }\n",
                            "\n",
                            "    .dataframe tbody tr th {\n",
                            "        vertical-align: top;\n",
                            "    }\n",
                            "\n",
                            "    .dataframe thead th {\n",
                            "        text-align: right;\n",
                            "    }\n",
                            "</style>\n",
                            "<table border=\"1\" class=\"dataframe\">\n",
                            "  <thead>\n",
                            "    <tr style=\"text-align: right;\">\n",
                            "      <th></th>\n",
                            "      <th>mean_fit_time</th>\n",
                            "      <th>std_fit_time</th>\n",
                            "      <th>mean_score_time</th>\n",
                            "      <th>std_score_time</th>\n",
                            "      <th>param_learning_rate</th>\n",
                            "      <th>param_max_depth</th>\n",
                            "      <th>param_n_estimators</th>\n",
                            "      <th>params</th>\n",
                            "      <th>split0_test_score</th>\n",
                            "      <th>split1_test_score</th>\n",
                            "      <th>split2_test_score</th>\n",
                            "      <th>split3_test_score</th>\n",
                            "      <th>split4_test_score</th>\n",
                            "      <th>mean_test_score</th>\n",
                            "      <th>std_test_score</th>\n",
                            "      <th>rank_test_score</th>\n",
                            "    </tr>\n",
                            "  </thead>\n",
                            "  <tbody>\n",
                            "    <tr>\n",
                            "      <th>18</th>\n",
                            "      <td>42.666032</td>\n",
                            "      <td>2.060862</td>\n",
                            "      <td>0.089221</td>\n",
                            "      <td>0.012009</td>\n",
                            "      <td>0.1</td>\n",
                            "      <td>3</td>\n",
                            "      <td>200</td>\n",
                            "      <td>{'learning_rate': 0.1, 'max_depth': 3, 'n_esti...</td>\n",
                            "      <td>0.904877</td>\n",
                            "      <td>0.901837</td>\n",
                            "      <td>0.897019</td>\n",
                            "      <td>0.905450</td>\n",
                            "      <td>0.910569</td>\n",
                            "      <td>0.903950</td>\n",
                            "      <td>0.004459</td>\n",
                            "      <td>1</td>\n",
                            "    </tr>\n",
                            "    <tr>\n",
                            "      <th>3</th>\n",
                            "      <td>95.499729</td>\n",
                            "      <td>0.724616</td>\n",
                            "      <td>0.181143</td>\n",
                            "      <td>0.014144</td>\n",
                            "      <td>0.05</td>\n",
                            "      <td>3</td>\n",
                            "      <td>500</td>\n",
                            "      <td>{'learning_rate': 0.05, 'max_depth': 3, 'n_est...</td>\n",
                            "      <td>0.903672</td>\n",
                            "      <td>0.901536</td>\n",
                            "      <td>0.896718</td>\n",
                            "      <td>0.905751</td>\n",
                            "      <td>0.909365</td>\n",
                            "      <td>0.903408</td>\n",
                            "      <td>0.004226</td>\n",
                            "      <td>2</td>\n",
                            "    </tr>\n",
                            "    <tr>\n",
                            "      <th>33</th>\n",
                            "      <td>19.958259</td>\n",
                            "      <td>0.719428</td>\n",
                            "      <td>0.045811</td>\n",
                            "      <td>0.002785</td>\n",
                            "      <td>0.2</td>\n",
                            "      <td>3</td>\n",
                            "      <td>100</td>\n",
                            "      <td>{'learning_rate': 0.2, 'max_depth': 3, 'n_esti...</td>\n",
                            "      <td>0.902167</td>\n",
                            "      <td>0.903342</td>\n",
                            "      <td>0.897922</td>\n",
                            "      <td>0.905149</td>\n",
                            "      <td>0.907558</td>\n",
                            "      <td>0.903228</td>\n",
                            "      <td>0.003216</td>\n",
                            "      <td>3</td>\n",
                            "    </tr>\n",
                            "    <tr>\n",
                            "      <th>6</th>\n",
                            "      <td>60.316419</td>\n",
                            "      <td>0.416450</td>\n",
                            "      <td>0.124034</td>\n",
                            "      <td>0.005878</td>\n",
                            "      <td>0.05</td>\n",
                            "      <td>5</td>\n",
                            "      <td>200</td>\n",
                            "      <td>{'learning_rate': 0.05, 'max_depth': 5, 'n_est...</td>\n",
                            "      <td>0.900662</td>\n",
                            "      <td>0.904547</td>\n",
                            "      <td>0.896417</td>\n",
                            "      <td>0.900933</td>\n",
                            "      <td>0.910268</td>\n",
                            "      <td>0.902565</td>\n",
                            "      <td>0.004634</td>\n",
                            "      <td>4</td>\n",
                            "    </tr>\n",
                            "    <tr>\n",
                            "      <th>17</th>\n",
                            "      <td>22.582871</td>\n",
                            "      <td>2.538351</td>\n",
                            "      <td>0.051513</td>\n",
                            "      <td>0.005311</td>\n",
                            "      <td>0.1</td>\n",
                            "      <td>3</td>\n",
                            "      <td>100</td>\n",
                            "      <td>{'learning_rate': 0.1, 'max_depth': 3, 'n_esti...</td>\n",
                            "      <td>0.903672</td>\n",
                            "      <td>0.903342</td>\n",
                            "      <td>0.893707</td>\n",
                            "      <td>0.904246</td>\n",
                            "      <td>0.907859</td>\n",
                            "      <td>0.902565</td>\n",
                            "      <td>0.004715</td>\n",
                            "      <td>5</td>\n",
                            "    </tr>\n",
                            "    <tr>\n",
                            "      <th>19</th>\n",
                            "      <td>101.229258</td>\n",
                            "      <td>2.377457</td>\n",
                            "      <td>0.191644</td>\n",
                            "      <td>0.029911</td>\n",
                            "      <td>0.1</td>\n",
                            "      <td>3</td>\n",
                            "      <td>500</td>\n",
                            "      <td>{'learning_rate': 0.1, 'max_depth': 3, 'n_esti...</td>\n",
                            "      <td>0.901866</td>\n",
                            "      <td>0.903945</td>\n",
                            "      <td>0.899127</td>\n",
                            "      <td>0.900933</td>\n",
                            "      <td>0.906655</td>\n",
                            "      <td>0.902505</td>\n",
                            "      <td>0.002592</td>\n",
                            "      <td>6</td>\n",
                            "    </tr>\n",
                            "    <tr>\n",
                            "      <th>2</th>\n",
                            "      <td>38.008427</td>\n",
                            "      <td>0.838194</td>\n",
                            "      <td>0.081418</td>\n",
                            "      <td>0.001625</td>\n",
                            "      <td>0.05</td>\n",
                            "      <td>3</td>\n",
                            "      <td>200</td>\n",
                            "      <td>{'learning_rate': 0.05, 'max_depth': 3, 'n_est...</td>\n",
                            "      <td>0.901866</td>\n",
                            "      <td>0.902439</td>\n",
                            "      <td>0.892502</td>\n",
                            "      <td>0.905751</td>\n",
                            "      <td>0.909064</td>\n",
                            "      <td>0.902324</td>\n",
                            "      <td>0.005547</td>\n",
                            "      <td>7</td>\n",
                            "    </tr>\n",
                            "    <tr>\n",
                            "      <th>21</th>\n",
                            "      <td>31.501173</td>\n",
                            "      <td>0.563987</td>\n",
                            "      <td>0.067517</td>\n",
                            "      <td>0.003976</td>\n",
                            "      <td>0.1</td>\n",
                            "      <td>5</td>\n",
                            "      <td>100</td>\n",
                            "      <td>{'learning_rate': 0.1, 'max_depth': 5, 'n_esti...</td>\n",
                            "      <td>0.900963</td>\n",
                            "      <td>0.903342</td>\n",
                            "      <td>0.895815</td>\n",
                            "      <td>0.900331</td>\n",
                            "      <td>0.909666</td>\n",
                            "      <td>0.902023</td>\n",
                            "      <td>0.004532</td>\n",
                            "      <td>8</td>\n",
                            "    </tr>\n",
                            "    <tr>\n",
                            "      <th>5</th>\n",
                            "      <td>30.159064</td>\n",
                            "      <td>0.543878</td>\n",
                            "      <td>0.074617</td>\n",
                            "      <td>0.007089</td>\n",
                            "      <td>0.05</td>\n",
                            "      <td>5</td>\n",
                            "      <td>100</td>\n",
                            "      <td>{'learning_rate': 0.05, 'max_depth': 5, 'n_est...</td>\n",
                            "      <td>0.901565</td>\n",
                            "      <td>0.902439</td>\n",
                            "      <td>0.895815</td>\n",
                            "      <td>0.903342</td>\n",
                            "      <td>0.906956</td>\n",
                            "      <td>0.902023</td>\n",
                            "      <td>0.003606</td>\n",
                            "      <td>9</td>\n",
                            "    </tr>\n",
                            "    <tr>\n",
                            "      <th>32</th>\n",
                            "      <td>9.543541</td>\n",
                            "      <td>0.176277</td>\n",
                            "      <td>0.024406</td>\n",
                            "      <td>0.000490</td>\n",
                            "      <td>0.2</td>\n",
                            "      <td>3</td>\n",
                            "      <td>50</td>\n",
                            "      <td>{'learning_rate': 0.2, 'max_depth': 3, 'n_esti...</td>\n",
                            "      <td>0.901565</td>\n",
                            "      <td>0.905149</td>\n",
                            "      <td>0.890696</td>\n",
                            "      <td>0.905751</td>\n",
                            "      <td>0.905751</td>\n",
                            "      <td>0.901783</td>\n",
                            "      <td>0.005759</td>\n",
                            "      <td>10</td>\n",
                            "    </tr>\n",
                            "  </tbody>\n",
                            "</table>\n",
                            "</div>"
                        ],
                        "text/plain": [
                            "    mean_fit_time  std_fit_time  mean_score_time  std_score_time  \\\n",
                            "18      42.666032      2.060862         0.089221        0.012009   \n",
                            "3       95.499729      0.724616         0.181143        0.014144   \n",
                            "33      19.958259      0.719428         0.045811        0.002785   \n",
                            "6       60.316419      0.416450         0.124034        0.005878   \n",
                            "17      22.582871      2.538351         0.051513        0.005311   \n",
                            "19     101.229258      2.377457         0.191644        0.029911   \n",
                            "2       38.008427      0.838194         0.081418        0.001625   \n",
                            "21      31.501173      0.563987         0.067517        0.003976   \n",
                            "5       30.159064      0.543878         0.074617        0.007089   \n",
                            "32       9.543541      0.176277         0.024406        0.000490   \n",
                            "\n",
                            "   param_learning_rate param_max_depth param_n_estimators  \\\n",
                            "18                 0.1               3                200   \n",
                            "3                 0.05               3                500   \n",
                            "33                 0.2               3                100   \n",
                            "6                 0.05               5                200   \n",
                            "17                 0.1               3                100   \n",
                            "19                 0.1               3                500   \n",
                            "2                 0.05               3                200   \n",
                            "21                 0.1               5                100   \n",
                            "5                 0.05               5                100   \n",
                            "32                 0.2               3                 50   \n",
                            "\n",
                            "                                               params  split0_test_score  \\\n",
                            "18  {'learning_rate': 0.1, 'max_depth': 3, 'n_esti...           0.904877   \n",
                            "3   {'learning_rate': 0.05, 'max_depth': 3, 'n_est...           0.903672   \n",
                            "33  {'learning_rate': 0.2, 'max_depth': 3, 'n_esti...           0.902167   \n",
                            "6   {'learning_rate': 0.05, 'max_depth': 5, 'n_est...           0.900662   \n",
                            "17  {'learning_rate': 0.1, 'max_depth': 3, 'n_esti...           0.903672   \n",
                            "19  {'learning_rate': 0.1, 'max_depth': 3, 'n_esti...           0.901866   \n",
                            "2   {'learning_rate': 0.05, 'max_depth': 3, 'n_est...           0.901866   \n",
                            "21  {'learning_rate': 0.1, 'max_depth': 5, 'n_esti...           0.900963   \n",
                            "5   {'learning_rate': 0.05, 'max_depth': 5, 'n_est...           0.901565   \n",
                            "32  {'learning_rate': 0.2, 'max_depth': 3, 'n_esti...           0.901565   \n",
                            "\n",
                            "    split1_test_score  split2_test_score  split3_test_score  \\\n",
                            "18           0.901837           0.897019           0.905450   \n",
                            "3            0.901536           0.896718           0.905751   \n",
                            "33           0.903342           0.897922           0.905149   \n",
                            "6            0.904547           0.896417           0.900933   \n",
                            "17           0.903342           0.893707           0.904246   \n",
                            "19           0.903945           0.899127           0.900933   \n",
                            "2            0.902439           0.892502           0.905751   \n",
                            "21           0.903342           0.895815           0.900331   \n",
                            "5            0.902439           0.895815           0.903342   \n",
                            "32           0.905149           0.890696           0.905751   \n",
                            "\n",
                            "    split4_test_score  mean_test_score  std_test_score  rank_test_score  \n",
                            "18           0.910569         0.903950        0.004459                1  \n",
                            "3            0.909365         0.903408        0.004226                2  \n",
                            "33           0.907558         0.903228        0.003216                3  \n",
                            "6            0.910268         0.902565        0.004634                4  \n",
                            "17           0.907859         0.902565        0.004715                5  \n",
                            "19           0.906655         0.902505        0.002592                6  \n",
                            "2            0.909064         0.902324        0.005547                7  \n",
                            "21           0.909666         0.902023        0.004532                8  \n",
                            "5            0.906956         0.902023        0.003606                9  \n",
                            "32           0.905751         0.901783        0.005759               10  "
                        ]
                    },
                    "execution_count": 21,
                    "metadata": {},
                    "output_type": "execute_result"
                }
            ],
            "source": [
                "tuning_results.sort_values('rank_test_score').head(10)"
            ]
        },
        {
            "cell_type": "code",
            "execution_count": 22,
            "metadata": {},
            "outputs": [
                {
                    "data": {
                        "text/plain": [
                            "{'learning_rate': 0.1, 'max_depth': 3, 'n_estimators': 200}"
                        ]
                    },
                    "execution_count": 22,
                    "metadata": {},
                    "output_type": "execute_result"
                }
            ],
            "source": [
                "best_grad_hyperparams"
            ]
        },
        {
            "cell_type": "code",
            "execution_count": 23,
            "metadata": {},
            "outputs": [
                {
                    "name": "stdout",
                    "output_type": "stream",
                    "text": [
                        "              precision    recall  f1-score   support\n",
                        "\n",
                        "           0     0.9585    0.9604    0.9594      2018\n",
                        "           1     0.9097    0.9201    0.9149      2465\n",
                        "           2     0.8604    0.8347    0.8474      1942\n",
                        "           3     0.8706    0.8835    0.8770      2018\n",
                        "           4     0.9418    0.9377    0.9397      2328\n",
                        "           5     0.9866    0.9896    0.9881      2598\n",
                        "           6     1.0000    0.9994    0.9997      3237\n",
                        "\n",
                        "    accuracy                         0.9394     16606\n",
                        "   macro avg     0.9325    0.9322    0.9323     16606\n",
                        "weighted avg     0.9392    0.9394    0.9393     16606\n",
                        "\n"
                    ]
                }
            ],
            "source": [
                "print(classification_report(y_train, best_grad.predict(X_train), digits=4))"
            ]
        },
        {
            "cell_type": "code",
            "execution_count": 24,
            "metadata": {},
            "outputs": [
                {
                    "name": "stdout",
                    "output_type": "stream",
                    "text": [
                        "              precision    recall  f1-score   support\n",
                        "\n",
                        "           0     0.9320    0.9505    0.9412       505\n",
                        "           1     0.8778    0.8849    0.8814       617\n",
                        "           2     0.8190    0.7649    0.7910       485\n",
                        "           3     0.7950    0.8155    0.8051       504\n",
                        "           4     0.8790    0.8866    0.8828       582\n",
                        "           5     0.9707    0.9692    0.9700       650\n",
                        "           6     0.9963    0.9963    0.9963       809\n",
                        "\n",
                        "    accuracy                         0.9056      4152\n",
                        "   macro avg     0.8957    0.8954    0.8954      4152\n",
                        "weighted avg     0.9053    0.9056    0.9053      4152\n",
                        "\n"
                    ]
                }
            ],
            "source": [
                "y_pred_grad = best_grad.predict(X_test)\n",
                "print(classification_report(y_test, best_grad.predict(X_test), digits=4))"
            ]
        },
        {
            "cell_type": "code",
            "execution_count": 25,
            "metadata": {},
            "outputs": [
                {
                    "data": {
                        "image/png": "[encoded data removed]",
                        "text/plain": [
                            "<Figure size 576x432 with 2 Axes>"
                        ]
                    },
                    "metadata": {
                        "needs_background": "light"
                    },
                    "output_type": "display_data"
                }
            ],
            "source": [
                "plot_confusion_matrix(y_test, y_pred_grad, 'Confusion Matrix of Gradient Boosting')"
            ]
        }
    ],
    "metadata": {
        "kernelspec": {
            "display_name": "base",
            "language": "python",
            "name": "python3"
        },
        "language_info": {
            "codemirror_mode": {
                "name": "ipython",
                "version": 3
            },
            "file_extension": ".py",
            "mimetype": "text/x-python",
            "name": "python",
            "nbconvert_exporter": "python",
            "pygments_lexer": "ipython3",
            "version": "3.7.1"
        }
    },
    "nbformat": 4,
    "nbformat_minor": 2
}
