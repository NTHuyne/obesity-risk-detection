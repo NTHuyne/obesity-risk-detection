{
 "cells": [
  {
   "cell_type": "markdown",
   "metadata": {},
   "source": [
    "## Data Spliting\n",
    "\n",
    "This notebook is to split the data into train set and test set. This ensures that we have a separate set of data to evaluate our model's performance, untouched during the training and preprocessing phases."
   ]
  },
  {
   "cell_type": "markdown",
   "metadata": {},
   "source": [
    "### Step 1 | Import libraries"
   ]
  },
  {
   "cell_type": "code",
   "execution_count": 1,
   "metadata": {},
   "outputs": [
    {
     "name": "stderr",
     "output_type": "stream",
     "text": [
      "C:\\Users\\FPT Shop\\AppData\\Roaming\\Python\\Python37\\site-packages\\pandas\\compat\\_optional.py:138: UserWarning: Pandas requires version '2.7.0' or newer of 'numexpr' (version '2.6.8' currently installed).\n",
      "  warnings.warn(msg, UserWarning)\n"
     ]
    }
   ],
   "source": [
    "import os\n",
    "import numpy as np\n",
    "import pandas as pd\n",
    "import seaborn as sns\n",
    "import matplotlib.pyplot as plt \n",
    "from sklearn.model_selection import train_test_split"
   ]
  },
  {
   "cell_type": "markdown",
   "metadata": {},
   "source": [
    "### Step 2 | Read the dataset"
   ]
  },
  {
   "cell_type": "code",
   "execution_count": 2,
   "metadata": {},
   "outputs": [
    {
     "name": "stdout",
     "output_type": "stream",
     "text": [
      "data\\data.csv\n",
      "data\\test_data.csv\n",
      "data\\train_data.csv\n"
     ]
    }
   ],
   "source": [
    "for dirname, _, filenames in os.walk('data'):\n",
    "    for filename in filenames:\n",
    "        print(os.path.join(dirname, filename))"
   ]
  },
  {
   "cell_type": "code",
   "execution_count": 3,
   "metadata": {},
   "outputs": [],
   "source": [
    "data = pd.read_csv('data\\data.csv')"
   ]
  },
  {
   "cell_type": "markdown",
   "metadata": {},
   "source": [
    "#### Dataset information\n",
    "\n",
    "- This dataset include data for the estimation of obesity levels in individuals from the countries of Mexico, Peru and Colombia, based on their eating habits and physical condition. \n",
    "- The data contains 17 attributes , the records are labeled with the class variable NObesity (Obesity Level), using the labels of Insufficient Weight, Normal Weight, Overweight Level I, Overweight Level II, Obesity Type I, Obesity Type II and Obesity Type III.\n",
    "\n",
    "Here's a description of the columns in the dataset:"
   ]
  },
  {
   "cell_type": "markdown",
   "metadata": {},
   "source": [
    "| Feature                                   | Datatype     | Labels                                         | Description                                                |\n",
    "|-------------------------------------------|--------------|------------------------------------------------|------------------------------------------------------------|\n",
    "| ID                                        | Categorical  | -                                              | Unique identifier                                          |\n",
    "| Smoke                                     | Categorical  | Yes, No                                       | Smoker or not                                              |\n",
    "| Weight                                    | Numerical    | -                                              | Weight (Float)                                             |\n",
    "| Age                                       | Numerical    | -                                              | Age (Float)                                                |\n",
    "| Height                                    | Numerical    | -                                              | Height (Float)                                             |\n",
    "| Gender                                    | Categorical  | Male, Female                                  | Gender                                                     |\n",
    "| Family_history_with_overweight            | Categorical  | Yes, No                                       | Family history with overweight                             |\n",
    "| FAVC                                      | Categorical  | Yes, No                                       | Frequent consumption of high-caloric food items            |\n",
    "| FCVC                                      | Numerical    | -                                              | Frequency of consuming vegetables (Float)                  |\n",
    "| NCP                                       | Numerical    | -                                              | Number of main meals consumed per day (Float)              |\n",
    "| CAEC                                      | Categorical  | Sometimes, No, Frequently, Always            | Frequency of consuming food between meals                  |\n",
    "| CH20                                      | Numerical    | -                                              | Amount of water consumed daily (Float)                     |\n",
    "| CALC                                      | Categorical  | Sometimes, No, Frequently                    | Frequency of alcohol consumption                           |\n",
    "| SCC                                       | Categorical  | Yes, No                                       | Monitoring of calorie consumption                          |\n",
    "| FAF                                       | Numerical    | -                                              | Frequency of engaging in physical activity (Float)         |\n",
    "| TUE                                       | Numerical    | -                                              | Time spent using technology devices (Float)                |\n",
    "| MTRANS                                    | Categorical  | Automobile, Bike, Motorbike, Public_Transportation, Walking | Mode of transportation used                              |\n",
    "| NObeyesdad                                | Categorical  | Underwright, Normal, two levels of Overweight ,three levels of Obesity                                  | Categorizes individuals into different weight or obesity categories (TARGET) |"
   ]
  },
  {
   "cell_type": "markdown",
   "metadata": {},
   "source": [
    "### Step 3 | Data spliting"
   ]
  },
  {
   "cell_type": "code",
   "execution_count": 4,
   "metadata": {},
   "outputs": [],
   "source": [
    "X = data.drop('NObeyesdad', axis=1)\n",
    "y = data['NObeyesdad']"
   ]
  },
  {
   "cell_type": "code",
   "execution_count": 5,
   "metadata": {},
   "outputs": [],
   "source": [
    "X_train, X_test, y_train, y_test = train_test_split(X, y , stratify = y, test_size=0.2, random_state=42) "
   ]
  },
  {
   "cell_type": "markdown",
   "metadata": {},
   "source": [
    "Here we stratified sampling to keep the same distribution of classes in both train set and test set"
   ]
  },
  {
   "cell_type": "code",
   "execution_count": 6,
   "metadata": {},
   "outputs": [],
   "source": [
    "target_order=['Insufficient_Weight','Normal_Weight', 'Overweight_Level_I', 'Overweight_Level_II', 'Obesity_Type_I', 'Obesity_Type_II' ,'Obesity_Type_III']"
   ]
  },
  {
   "cell_type": "code",
   "execution_count": 7,
   "metadata": {},
   "outputs": [
    {
     "data": {
      "image/png": "[encoded data removed]",
      "text/plain": [
       "<Figure size 864x360 with 2 Axes>"
      ]
     },
     "metadata": {
      "needs_background": "light"
     },
     "output_type": "display_data"
    }
   ],
   "source": [
    "plt.figure(figsize=(12, 5))\n",
    "\n",
    "plt.subplot(1, 2, 1)\n",
    "ax = sns.countplot(x=y_train,order= target_order, palette='mako')\n",
    "total = float(len(y_train))\n",
    "for p in ax.patches:\n",
    "    height = p.get_height()\n",
    "    ax.text(p.get_x() + p.get_width()/2.,\n",
    "            height+0.002 * total ,\n",
    "            '{:.2f}%'.format((height/total)*100),\n",
    "            ha=\"center\") \n",
    "\n",
    "plt.xlabel('Obesity Level')\n",
    "plt.title('Training Set')\n",
    "plt.xticks(rotation=25)\n",
    "\n",
    "plt.subplot(1, 2, 2)\n",
    "ax = sns.countplot(x=y_test,order= target_order, palette='mako')\n",
    "total = float(len(y_test))\n",
    "for p in ax.patches:\n",
    "    height = p.get_height()\n",
    "    ax.text(p.get_x() + p.get_width()/2.,\n",
    "            height+0.002 * total ,\n",
    "            '{:.2f}%'.format((height/total)*100),\n",
    "            ha=\"center\") \n",
    "\n",
    "plt.xlabel('Obesity Levels')\n",
    "plt.title('Test Set')\n",
    "plt.xticks(rotation=25)\n",
    "plt.show()\n",
    "\n",
    "plt.show()"
   ]
  },
  {
   "cell_type": "markdown",
   "metadata": {},
   "source": [
    "### Step 4 | Save the dataset"
   ]
  },
  {
   "cell_type": "code",
   "execution_count": 8,
   "metadata": {},
   "outputs": [],
   "source": [
    "# Training Dataset\n",
    "train_df = pd.concat((X_train,y_train),axis=1)\n",
    "train_df.to_csv('data/train_data.csv', index=False)\n"
   ]
  },
  {
   "cell_type": "code",
   "execution_count": 9,
   "metadata": {},
   "outputs": [],
   "source": [
    "# Validation Dataset\n",
    "test_df = pd.concat((X_test,y_test),axis=1)\n",
    "test_df.to_csv('data/test_data.csv', index=False)"
   ]
  },
  {
   "cell_type": "code",
   "execution_count": 10,
   "metadata": {},
   "outputs": [
    {
     "name": "stdout",
     "output_type": "stream",
     "text": [
      "The Train Dataset has 16606 row\n",
      "The Test Dataset has 4152 row\n"
     ]
    }
   ],
   "source": [
    "print(f'The Train Dataset has {train_df.shape[0]} row')\n",
    "print(f'The Test Dataset has {test_df.shape[0]} row')"
   ]
  }
 ],
 "metadata": {
  "kernelspec": {
   "display_name": "Python 3",
   "language": "python",
   "name": "python3"
  },
  "language_info": {
   "codemirror_mode": {
    "name": "ipython",
    "version": 3
   },
   "file_extension": ".py",
   "mimetype": "text/x-python",
   "name": "python",
   "nbconvert_exporter": "python",
   "pygments_lexer": "ipython3",
   "version": "3.7.1"
  }
 },
 "nbformat": 4,
 "nbformat_minor": 2
}
