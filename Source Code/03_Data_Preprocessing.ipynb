{
 "cells": [
  {
   "cell_type": "markdown",
   "metadata": {},
   "source": [
    "## Data Preprocessing"
   ]
  },
  {
   "cell_type": "markdown",
   "metadata": {},
   "source": [
    "The purpose of this notebook is to process the dataset (both train and test set). The main stages in proprocessing step includes: remove irrelevant attribute, handle missing values, encode the categorical features and scale data."
   ]
  },
  {
   "cell_type": "markdown",
   "metadata": {},
   "source": [
    "### Step 1 | Import libraries"
   ]
  },
  {
   "cell_type": "code",
   "execution_count": 1,
   "metadata": {},
   "outputs": [],
   "source": [
    "import os\n",
    "import numpy as np\n",
    "import pandas as pd\n",
    "import seaborn as sns\n",
    "import matplotlib.pyplot as plt \n",
    "from sklearn.preprocessing import OrdinalEncoder"
   ]
  },
  {
   "cell_type": "markdown",
   "metadata": {},
   "source": [
    "### Step 2 | Import datasets"
   ]
  },
  {
   "cell_type": "code",
   "execution_count": 2,
   "metadata": {},
   "outputs": [],
   "source": [
    "train_df = pd.read_csv('data/train_data.csv')\n",
    "test_df = pd.read_csv('data/test_data.csv')"
   ]
  },
  {
   "cell_type": "code",
   "execution_count": 3,
   "metadata": {},
   "outputs": [
    {
     "data": {
      "text/html": [
       "<div>\n",
       "<style scoped>\n",
       "    .dataframe tbody tr th:only-of-type {\n",
       "        vertical-align: middle;\n",
       "    }\n",
       "\n",
       "    .dataframe tbody tr th {\n",
       "        vertical-align: top;\n",
       "    }\n",
       "\n",
       "    .dataframe thead th {\n",
       "        text-align: right;\n",
       "    }\n",
       "</style>\n",
       "<table border=\"1\" class=\"dataframe\">\n",
       "  <thead>\n",
       "    <tr style=\"text-align: right;\">\n",
       "      <th></th>\n",
       "      <th>id</th>\n",
       "      <th>Gender</th>\n",
       "      <th>Age</th>\n",
       "      <th>Height</th>\n",
       "      <th>Weight</th>\n",
       "      <th>family_history_with_overweight</th>\n",
       "      <th>FAVC</th>\n",
       "      <th>FCVC</th>\n",
       "      <th>NCP</th>\n",
       "      <th>CAEC</th>\n",
       "      <th>SMOKE</th>\n",
       "      <th>CH2O</th>\n",
       "      <th>SCC</th>\n",
       "      <th>FAF</th>\n",
       "      <th>TUE</th>\n",
       "      <th>CALC</th>\n",
       "      <th>MTRANS</th>\n",
       "      <th>NObeyesdad</th>\n",
       "    </tr>\n",
       "  </thead>\n",
       "  <tbody>\n",
       "    <tr>\n",
       "      <th>0</th>\n",
       "      <td>4515</td>\n",
       "      <td>Male</td>\n",
       "      <td>22.000000</td>\n",
       "      <td>1.710000</td>\n",
       "      <td>90.000000</td>\n",
       "      <td>yes</td>\n",
       "      <td>yes</td>\n",
       "      <td>2.000000</td>\n",
       "      <td>1.000000</td>\n",
       "      <td>Sometimes</td>\n",
       "      <td>no</td>\n",
       "      <td>2.000000</td>\n",
       "      <td>no</td>\n",
       "      <td>1.000000</td>\n",
       "      <td>2.000000</td>\n",
       "      <td>Sometimes</td>\n",
       "      <td>Public_Transportation</td>\n",
       "      <td>Obesity_Type_I</td>\n",
       "    </tr>\n",
       "    <tr>\n",
       "      <th>1</th>\n",
       "      <td>7949</td>\n",
       "      <td>Female</td>\n",
       "      <td>41.000000</td>\n",
       "      <td>1.640000</td>\n",
       "      <td>77.000000</td>\n",
       "      <td>yes</td>\n",
       "      <td>yes</td>\n",
       "      <td>3.000000</td>\n",
       "      <td>1.000000</td>\n",
       "      <td>Sometimes</td>\n",
       "      <td>no</td>\n",
       "      <td>2.000000</td>\n",
       "      <td>no</td>\n",
       "      <td>0.000000</td>\n",
       "      <td>0.000000</td>\n",
       "      <td>Sometimes</td>\n",
       "      <td>Automobile</td>\n",
       "      <td>Obesity_Type_I</td>\n",
       "    </tr>\n",
       "    <tr>\n",
       "      <th>2</th>\n",
       "      <td>20677</td>\n",
       "      <td>Male</td>\n",
       "      <td>18.000000</td>\n",
       "      <td>1.800000</td>\n",
       "      <td>56.000000</td>\n",
       "      <td>yes</td>\n",
       "      <td>yes</td>\n",
       "      <td>2.000000</td>\n",
       "      <td>4.000000</td>\n",
       "      <td>Frequently</td>\n",
       "      <td>no</td>\n",
       "      <td>2.000000</td>\n",
       "      <td>no</td>\n",
       "      <td>2.000000</td>\n",
       "      <td>1.000000</td>\n",
       "      <td>no</td>\n",
       "      <td>Automobile</td>\n",
       "      <td>Insufficient_Weight</td>\n",
       "    </tr>\n",
       "    <tr>\n",
       "      <th>3</th>\n",
       "      <td>18079</td>\n",
       "      <td>Male</td>\n",
       "      <td>18.000000</td>\n",
       "      <td>1.700000</td>\n",
       "      <td>85.000000</td>\n",
       "      <td>yes</td>\n",
       "      <td>yes</td>\n",
       "      <td>2.000000</td>\n",
       "      <td>3.000000</td>\n",
       "      <td>Frequently</td>\n",
       "      <td>no</td>\n",
       "      <td>2.000000</td>\n",
       "      <td>no</td>\n",
       "      <td>2.000000</td>\n",
       "      <td>1.000000</td>\n",
       "      <td>Frequently</td>\n",
       "      <td>Public_Transportation</td>\n",
       "      <td>Overweight_Level_II</td>\n",
       "    </tr>\n",
       "    <tr>\n",
       "      <th>4</th>\n",
       "      <td>5129</td>\n",
       "      <td>Male</td>\n",
       "      <td>22.735328</td>\n",
       "      <td>1.849425</td>\n",
       "      <td>121.657979</td>\n",
       "      <td>yes</td>\n",
       "      <td>yes</td>\n",
       "      <td>2.352323</td>\n",
       "      <td>2.699971</td>\n",
       "      <td>Sometimes</td>\n",
       "      <td>no</td>\n",
       "      <td>2.357978</td>\n",
       "      <td>no</td>\n",
       "      <td>1.684582</td>\n",
       "      <td>0.739609</td>\n",
       "      <td>Sometimes</td>\n",
       "      <td>Public_Transportation</td>\n",
       "      <td>Obesity_Type_II</td>\n",
       "    </tr>\n",
       "  </tbody>\n",
       "</table>\n",
       "</div>"
      ],
      "text/plain": [
       "      id  Gender        Age    Height      Weight  \\\n",
       "0   4515    Male  22.000000  1.710000   90.000000   \n",
       "1   7949  Female  41.000000  1.640000   77.000000   \n",
       "2  20677    Male  18.000000  1.800000   56.000000   \n",
       "3  18079    Male  18.000000  1.700000   85.000000   \n",
       "4   5129    Male  22.735328  1.849425  121.657979   \n",
       "\n",
       "  family_history_with_overweight FAVC      FCVC       NCP        CAEC SMOKE  \\\n",
       "0                            yes  yes  2.000000  1.000000   Sometimes    no   \n",
       "1                            yes  yes  3.000000  1.000000   Sometimes    no   \n",
       "2                            yes  yes  2.000000  4.000000  Frequently    no   \n",
       "3                            yes  yes  2.000000  3.000000  Frequently    no   \n",
       "4                            yes  yes  2.352323  2.699971   Sometimes    no   \n",
       "\n",
       "       CH2O SCC       FAF       TUE        CALC                 MTRANS  \\\n",
       "0  2.000000  no  1.000000  2.000000   Sometimes  Public_Transportation   \n",
       "1  2.000000  no  0.000000  0.000000   Sometimes             Automobile   \n",
       "2  2.000000  no  2.000000  1.000000          no             Automobile   \n",
       "3  2.000000  no  2.000000  1.000000  Frequently  Public_Transportation   \n",
       "4  2.357978  no  1.684582  0.739609   Sometimes  Public_Transportation   \n",
       "\n",
       "            NObeyesdad  \n",
       "0       Obesity_Type_I  \n",
       "1       Obesity_Type_I  \n",
       "2  Insufficient_Weight  \n",
       "3  Overweight_Level_II  \n",
       "4      Obesity_Type_II  "
      ]
     },
     "execution_count": 3,
     "metadata": {},
     "output_type": "execute_result"
    }
   ],
   "source": [
    "train_df.head()"
   ]
  },
  {
   "cell_type": "markdown",
   "metadata": {},
   "source": [
    "### Step 3 | Data Preprocessing"
   ]
  },
  {
   "cell_type": "markdown",
   "metadata": {},
   "source": [
    "#### Step 3.1 | Irrelevant Feature Removals"
   ]
  },
  {
   "cell_type": "markdown",
   "metadata": {},
   "source": [
    "Here we decided to drop the 'id' columns because it is just for indexing, which has no affect on the labels."
   ]
  },
  {
   "cell_type": "code",
   "execution_count": 4,
   "metadata": {},
   "outputs": [],
   "source": [
    "train_df = train_df.drop(columns=['id'])"
   ]
  },
  {
   "cell_type": "code",
   "execution_count": 5,
   "metadata": {},
   "outputs": [],
   "source": [
    "test_df = test_df.drop(columns=['id'])"
   ]
  },
  {
   "cell_type": "markdown",
   "metadata": {},
   "source": [
    "#### Step 3.2 | Missing Value Treatment"
   ]
  },
  {
   "cell_type": "code",
   "execution_count": 6,
   "metadata": {},
   "outputs": [
    {
     "data": {
      "text/plain": [
       "0"
      ]
     },
     "execution_count": 6,
     "metadata": {},
     "output_type": "execute_result"
    }
   ],
   "source": [
    "train_df.isnull().sum().sum()"
   ]
  },
  {
   "cell_type": "code",
   "execution_count": 7,
   "metadata": {},
   "outputs": [
    {
     "data": {
      "text/plain": [
       "0"
      ]
     },
     "execution_count": 7,
     "metadata": {},
     "output_type": "execute_result"
    }
   ],
   "source": [
    "test_df.isnull().sum().sum()"
   ]
  },
  {
   "cell_type": "markdown",
   "metadata": {},
   "source": [
    "The dataset has no missing values."
   ]
  },
  {
   "cell_type": "markdown",
   "metadata": {},
   "source": [
    "#### Step 3.3 | Categorical Attributes Encoding"
   ]
  },
  {
   "cell_type": "code",
   "execution_count": 8,
   "metadata": {},
   "outputs": [],
   "source": [
    "ordinal_features = ['Gender', 'family_history_with_overweight', 'FAVC', 'CAEC', 'SMOKE', 'SCC', 'CALC']"
   ]
  },
  {
   "cell_type": "markdown",
   "metadata": {},
   "source": [
    "Here, we decided to apply ordinal encoding to binary-value features (yes/no, true/false), and ordinal-data features. Mean while, for the other case we will apply one-hot encoding (in this case for 'MTRANS' column).\n",
    "\n",
    "And we define a dictonary for label mapping, which convert a text label to a specific number."
   ]
  },
  {
   "cell_type": "code",
   "execution_count": 9,
   "metadata": {},
   "outputs": [],
   "source": [
    "label_mapping = {\n",
    "    'Insufficient_Weight': 0,\n",
    "    'Normal_Weight': 1,\n",
    "    'Overweight_Level_I': 2,\n",
    "    'Overweight_Level_II': 3,\n",
    "    'Obesity_Type_I': 4,\n",
    "    'Obesity_Type_II': 5,\n",
    "    'Obesity_Type_III': 6\n",
    "}"
   ]
  },
  {
   "cell_type": "code",
   "execution_count": 10,
   "metadata": {},
   "outputs": [],
   "source": [
    "def categorical_attribute_encoding(df):\n",
    "    df = pd.get_dummies(df, columns=['MTRANS'])\n",
    "    mtrans_columns = [col for col in df.columns if col.startswith('MTRANS')]\n",
    "    df[mtrans_columns] = df[mtrans_columns].astype(int)\n",
    "    ord_encoder = OrdinalEncoder()\n",
    "    df[ordinal_features] = ord_encoder.fit_transform(df[ordinal_features])\n",
    "    df[ordinal_features] = df[ordinal_features].astype(int)\n",
    "    df['NObeyesdad'] = df['NObeyesdad'].map(label_mapping).astype(int)\n",
    "    return df"
   ]
  },
  {
   "cell_type": "code",
   "execution_count": 11,
   "metadata": {},
   "outputs": [],
   "source": [
    "train_df = categorical_attribute_encoding(train_df)\n",
    "test_df = categorical_attribute_encoding(test_df)"
   ]
  },
  {
   "cell_type": "code",
   "execution_count": 12,
   "metadata": {},
   "outputs": [
    {
     "data": {
      "text/html": [
       "<div>\n",
       "<style scoped>\n",
       "    .dataframe tbody tr th:only-of-type {\n",
       "        vertical-align: middle;\n",
       "    }\n",
       "\n",
       "    .dataframe tbody tr th {\n",
       "        vertical-align: top;\n",
       "    }\n",
       "\n",
       "    .dataframe thead th {\n",
       "        text-align: right;\n",
       "    }\n",
       "</style>\n",
       "<table border=\"1\" class=\"dataframe\">\n",
       "  <thead>\n",
       "    <tr style=\"text-align: right;\">\n",
       "      <th></th>\n",
       "      <th>Gender</th>\n",
       "      <th>Age</th>\n",
       "      <th>Height</th>\n",
       "      <th>Weight</th>\n",
       "      <th>family_history_with_overweight</th>\n",
       "      <th>FAVC</th>\n",
       "      <th>FCVC</th>\n",
       "      <th>NCP</th>\n",
       "      <th>CAEC</th>\n",
       "      <th>SMOKE</th>\n",
       "      <th>...</th>\n",
       "      <th>SCC</th>\n",
       "      <th>FAF</th>\n",
       "      <th>TUE</th>\n",
       "      <th>CALC</th>\n",
       "      <th>NObeyesdad</th>\n",
       "      <th>MTRANS_Automobile</th>\n",
       "      <th>MTRANS_Bike</th>\n",
       "      <th>MTRANS_Motorbike</th>\n",
       "      <th>MTRANS_Public_Transportation</th>\n",
       "      <th>MTRANS_Walking</th>\n",
       "    </tr>\n",
       "  </thead>\n",
       "  <tbody>\n",
       "    <tr>\n",
       "      <th>0</th>\n",
       "      <td>1</td>\n",
       "      <td>22.000000</td>\n",
       "      <td>1.710000</td>\n",
       "      <td>90.000000</td>\n",
       "      <td>1</td>\n",
       "      <td>1</td>\n",
       "      <td>2.000000</td>\n",
       "      <td>1.000000</td>\n",
       "      <td>2</td>\n",
       "      <td>0</td>\n",
       "      <td>...</td>\n",
       "      <td>0</td>\n",
       "      <td>1.000000</td>\n",
       "      <td>2.000000</td>\n",
       "      <td>1</td>\n",
       "      <td>4</td>\n",
       "      <td>0</td>\n",
       "      <td>0</td>\n",
       "      <td>0</td>\n",
       "      <td>1</td>\n",
       "      <td>0</td>\n",
       "    </tr>\n",
       "    <tr>\n",
       "      <th>1</th>\n",
       "      <td>0</td>\n",
       "      <td>41.000000</td>\n",
       "      <td>1.640000</td>\n",
       "      <td>77.000000</td>\n",
       "      <td>1</td>\n",
       "      <td>1</td>\n",
       "      <td>3.000000</td>\n",
       "      <td>1.000000</td>\n",
       "      <td>2</td>\n",
       "      <td>0</td>\n",
       "      <td>...</td>\n",
       "      <td>0</td>\n",
       "      <td>0.000000</td>\n",
       "      <td>0.000000</td>\n",
       "      <td>1</td>\n",
       "      <td>4</td>\n",
       "      <td>1</td>\n",
       "      <td>0</td>\n",
       "      <td>0</td>\n",
       "      <td>0</td>\n",
       "      <td>0</td>\n",
       "    </tr>\n",
       "    <tr>\n",
       "      <th>2</th>\n",
       "      <td>1</td>\n",
       "      <td>18.000000</td>\n",
       "      <td>1.800000</td>\n",
       "      <td>56.000000</td>\n",
       "      <td>1</td>\n",
       "      <td>1</td>\n",
       "      <td>2.000000</td>\n",
       "      <td>4.000000</td>\n",
       "      <td>1</td>\n",
       "      <td>0</td>\n",
       "      <td>...</td>\n",
       "      <td>0</td>\n",
       "      <td>2.000000</td>\n",
       "      <td>1.000000</td>\n",
       "      <td>2</td>\n",
       "      <td>0</td>\n",
       "      <td>1</td>\n",
       "      <td>0</td>\n",
       "      <td>0</td>\n",
       "      <td>0</td>\n",
       "      <td>0</td>\n",
       "    </tr>\n",
       "    <tr>\n",
       "      <th>3</th>\n",
       "      <td>1</td>\n",
       "      <td>18.000000</td>\n",
       "      <td>1.700000</td>\n",
       "      <td>85.000000</td>\n",
       "      <td>1</td>\n",
       "      <td>1</td>\n",
       "      <td>2.000000</td>\n",
       "      <td>3.000000</td>\n",
       "      <td>1</td>\n",
       "      <td>0</td>\n",
       "      <td>...</td>\n",
       "      <td>0</td>\n",
       "      <td>2.000000</td>\n",
       "      <td>1.000000</td>\n",
       "      <td>0</td>\n",
       "      <td>3</td>\n",
       "      <td>0</td>\n",
       "      <td>0</td>\n",
       "      <td>0</td>\n",
       "      <td>1</td>\n",
       "      <td>0</td>\n",
       "    </tr>\n",
       "    <tr>\n",
       "      <th>4</th>\n",
       "      <td>1</td>\n",
       "      <td>22.735328</td>\n",
       "      <td>1.849425</td>\n",
       "      <td>121.657979</td>\n",
       "      <td>1</td>\n",
       "      <td>1</td>\n",
       "      <td>2.352323</td>\n",
       "      <td>2.699971</td>\n",
       "      <td>2</td>\n",
       "      <td>0</td>\n",
       "      <td>...</td>\n",
       "      <td>0</td>\n",
       "      <td>1.684582</td>\n",
       "      <td>0.739609</td>\n",
       "      <td>1</td>\n",
       "      <td>5</td>\n",
       "      <td>0</td>\n",
       "      <td>0</td>\n",
       "      <td>0</td>\n",
       "      <td>1</td>\n",
       "      <td>0</td>\n",
       "    </tr>\n",
       "  </tbody>\n",
       "</table>\n",
       "<p>5 rows × 21 columns</p>\n",
       "</div>"
      ],
      "text/plain": [
       "   Gender        Age    Height      Weight  family_history_with_overweight  \\\n",
       "0       1  22.000000  1.710000   90.000000                               1   \n",
       "1       0  41.000000  1.640000   77.000000                               1   \n",
       "2       1  18.000000  1.800000   56.000000                               1   \n",
       "3       1  18.000000  1.700000   85.000000                               1   \n",
       "4       1  22.735328  1.849425  121.657979                               1   \n",
       "\n",
       "   FAVC      FCVC       NCP  CAEC  SMOKE  ...  SCC       FAF       TUE  CALC  \\\n",
       "0     1  2.000000  1.000000     2      0  ...    0  1.000000  2.000000     1   \n",
       "1     1  3.000000  1.000000     2      0  ...    0  0.000000  0.000000     1   \n",
       "2     1  2.000000  4.000000     1      0  ...    0  2.000000  1.000000     2   \n",
       "3     1  2.000000  3.000000     1      0  ...    0  2.000000  1.000000     0   \n",
       "4     1  2.352323  2.699971     2      0  ...    0  1.684582  0.739609     1   \n",
       "\n",
       "   NObeyesdad  MTRANS_Automobile  MTRANS_Bike  MTRANS_Motorbike  \\\n",
       "0           4                  0            0                 0   \n",
       "1           4                  1            0                 0   \n",
       "2           0                  1            0                 0   \n",
       "3           3                  0            0                 0   \n",
       "4           5                  0            0                 0   \n",
       "\n",
       "   MTRANS_Public_Transportation  MTRANS_Walking  \n",
       "0                             1               0  \n",
       "1                             0               0  \n",
       "2                             0               0  \n",
       "3                             1               0  \n",
       "4                             1               0  \n",
       "\n",
       "[5 rows x 21 columns]"
      ]
     },
     "execution_count": 12,
     "metadata": {},
     "output_type": "execute_result"
    }
   ],
   "source": [
    "train_df.head()"
   ]
  },
  {
   "cell_type": "code",
   "execution_count": 13,
   "metadata": {},
   "outputs": [
    {
     "name": "stdout",
     "output_type": "stream",
     "text": [
      "<class 'pandas.core.frame.DataFrame'>\n",
      "RangeIndex: 16606 entries, 0 to 16605\n",
      "Data columns (total 21 columns):\n",
      " #   Column                          Non-Null Count  Dtype  \n",
      "---  ------                          --------------  -----  \n",
      " 0   Gender                          16606 non-null  int32  \n",
      " 1   Age                             16606 non-null  float64\n",
      " 2   Height                          16606 non-null  float64\n",
      " 3   Weight                          16606 non-null  float64\n",
      " 4   family_history_with_overweight  16606 non-null  int32  \n",
      " 5   FAVC                            16606 non-null  int32  \n",
      " 6   FCVC                            16606 non-null  float64\n",
      " 7   NCP                             16606 non-null  float64\n",
      " 8   CAEC                            16606 non-null  int32  \n",
      " 9   SMOKE                           16606 non-null  int32  \n",
      " 10  CH2O                            16606 non-null  float64\n",
      " 11  SCC                             16606 non-null  int32  \n",
      " 12  FAF                             16606 non-null  float64\n",
      " 13  TUE                             16606 non-null  float64\n",
      " 14  CALC                            16606 non-null  int32  \n",
      " 15  NObeyesdad                      16606 non-null  int32  \n",
      " 16  MTRANS_Automobile               16606 non-null  int32  \n",
      " 17  MTRANS_Bike                     16606 non-null  int32  \n",
      " 18  MTRANS_Motorbike                16606 non-null  int32  \n",
      " 19  MTRANS_Public_Transportation    16606 non-null  int32  \n",
      " 20  MTRANS_Walking                  16606 non-null  int32  \n",
      "dtypes: float64(8), int32(13)\n",
      "memory usage: 1.8 MB\n"
     ]
    }
   ],
   "source": [
    "train_df.info()"
   ]
  },
  {
   "cell_type": "markdown",
   "metadata": {},
   "source": [
    "#### Step 3.4 | Feature Scaling"
   ]
  },
  {
   "cell_type": "markdown",
   "metadata": {},
   "source": [
    "Feature scaling is a data preprocessing technique used to transform the values of features or variables in a dataset to a similar scale. The purpose is to ensure that all features contribute equally to the model and to avoid the domination of features with larger values. Models like SVM, KNN, and many linear models rely on distances or gradients, making them susceptible to variations in feature scales. Scaling ensures that all features contribute equally to the model's decision rather than being dominated by features with larger magnitudes.\n",
    "\n",
    "---\n",
    "\n",
    "**We Skip It At This Time:**\n",
    "Not all algorithms require scaled data. For instance, Decision Tree-based models are scale-invariant. Given our intent to use a mix of models (some requiring scaling, others not), we've chosen to handle standard scaling later using pipelines. This approach lets us apply scaling specifically for models that benefit from it, ensuring flexibility and efficiency in our modeling process."
   ]
  },
  {
   "cell_type": "markdown",
   "metadata": {},
   "source": [
    "### Step 4 | Save The Dataset"
   ]
  },
  {
   "cell_type": "code",
   "execution_count": 14,
   "metadata": {},
   "outputs": [],
   "source": [
    "train_df.to_csv('data/preprocessed_train_df.csv', index=False)\n",
    "test_df.to_csv('data/preprocessed_test_data.csv', index=False)"
   ]
  }
 ],
 "metadata": {
  "kernelspec": {
   "display_name": "Python 3",
   "language": "python",
   "name": "python3"
  },
  "language_info": {
   "codemirror_mode": {
    "name": "ipython",
    "version": 3
   },
   "file_extension": ".py",
   "mimetype": "text/x-python",
   "name": "python",
   "nbconvert_exporter": "python",
   "pygments_lexer": "ipython3",
   "version": "3.10.1"
  }
 },
 "nbformat": 4,
 "nbformat_minor": 2
}
