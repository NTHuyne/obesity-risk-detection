{
 "cells": [
  {
   "cell_type": "markdown",
   "metadata": {},
   "source": [
    "## Training SVM"
   ]
  },
  {
   "cell_type": "markdown",
   "metadata": {},
   "source": [
    "### Step 1 | Import libraries"
   ]
  },
  {
   "cell_type": "code",
   "execution_count": 1,
   "metadata": {},
   "outputs": [
    {
     "name": "stderr",
     "output_type": "stream",
     "text": [
      "C:\\Users\\FPT Shop\\AppData\\Roaming\\Python\\Python37\\site-packages\\pandas\\compat\\_optional.py:138: UserWarning: Pandas requires version '2.7.0' or newer of 'numexpr' (version '2.6.8' currently installed).\n",
      "  warnings.warn(msg, UserWarning)\n"
     ]
    }
   ],
   "source": [
    "import seaborn as sns\n",
    "import matplotlib.pyplot as plt\n",
    "import warnings\n",
    "import numpy as np\n",
    "import pandas as pd\n",
    "from sklearn.preprocessing import StandardScaler\n",
    "from sklearn.pipeline import Pipeline\n",
    "from sklearn.metrics import confusion_matrix ,classification_report\n",
    "from sklearn.svm import SVC\n",
    "from tune_clf_hyperparameters import tune_clf_hyperparameters\n",
    "from plot_confusion_matrix import plot_confusion_matrix\n",
    "from sklearn.feature_selection import SelectFromModel\n",
    "warnings.filterwarnings(\"ignore\")"
   ]
  },
  {
   "cell_type": "markdown",
   "metadata": {},
   "source": [
    "### Step 2 | Import preprocessed dataset"
   ]
  },
  {
   "cell_type": "code",
   "execution_count": 2,
   "metadata": {},
   "outputs": [],
   "source": [
    "train_df = pd.read_csv('./data/preprocessed_train_df.csv')\n",
    "test_df = pd.read_csv('./data/preprocessed_test_data.csv')"
   ]
  },
  {
   "cell_type": "code",
   "execution_count": 3,
   "metadata": {},
   "outputs": [],
   "source": [
    "X_train = train_df.drop(columns=['NObeyesdad'])\n",
    "y_train = train_df['NObeyesdad']\n",
    "X_test = test_df.drop(columns=['NObeyesdad'])\n",
    "y_test = test_df['NObeyesdad']"
   ]
  },
  {
   "cell_type": "markdown",
   "metadata": {},
   "source": [
    "### Step 3 | Tuning hyperparameters of model"
   ]
  },
  {
   "cell_type": "code",
   "execution_count": 4,
   "metadata": {},
   "outputs": [],
   "source": [
    "svm_pipeline = Pipeline([\n",
    "    ('scaler', StandardScaler()),\n",
    "    ('svm', SVC())\n",
    "])"
   ]
  },
  {
   "cell_type": "code",
   "execution_count": 5,
   "metadata": {},
   "outputs": [],
   "source": [
    "grid_params = {\n",
    "    'svm__C': [0.01, 0.05, 0.1, 1, 3, 5, 7, 10],\n",
    "    'svm__kernel': ['linear', 'rbf', 'poly']\n",
    "}"
   ]
  },
  {
   "cell_type": "code",
   "execution_count": 6,
   "metadata": {},
   "outputs": [],
   "source": [
    "# Hyperparameter tuning for SVM\n",
    "best_svm, best_svm_hyperparams, tuning_results = tune_clf_hyperparameters(svm_pipeline, grid_params, X_train, y_train)"
   ]
  },
  {
   "cell_type": "code",
   "execution_count": 7,
   "metadata": {},
   "outputs": [
    {
     "data": {
      "text/html": [
       "<div>\n",
       "<style scoped>\n",
       "    .dataframe tbody tr th:only-of-type {\n",
       "        vertical-align: middle;\n",
       "    }\n",
       "\n",
       "    .dataframe tbody tr th {\n",
       "        vertical-align: top;\n",
       "    }\n",
       "\n",
       "    .dataframe thead th {\n",
       "        text-align: right;\n",
       "    }\n",
       "</style>\n",
       "<table border=\"1\" class=\"dataframe\">\n",
       "  <thead>\n",
       "    <tr style=\"text-align: right;\">\n",
       "      <th></th>\n",
       "      <th>mean_fit_time</th>\n",
       "      <th>std_fit_time</th>\n",
       "      <th>mean_score_time</th>\n",
       "      <th>std_score_time</th>\n",
       "      <th>param_svm__C</th>\n",
       "      <th>param_svm__kernel</th>\n",
       "      <th>params</th>\n",
       "      <th>split0_test_score</th>\n",
       "      <th>split1_test_score</th>\n",
       "      <th>split2_test_score</th>\n",
       "      <th>split3_test_score</th>\n",
       "      <th>split4_test_score</th>\n",
       "      <th>mean_test_score</th>\n",
       "      <th>std_test_score</th>\n",
       "      <th>rank_test_score</th>\n",
       "    </tr>\n",
       "  </thead>\n",
       "  <tbody>\n",
       "    <tr>\n",
       "      <th>15</th>\n",
       "      <td>9.780334</td>\n",
       "      <td>0.692392</td>\n",
       "      <td>0.835876</td>\n",
       "      <td>0.055919</td>\n",
       "      <td>5</td>\n",
       "      <td>linear</td>\n",
       "      <td>{'svm__C': 5, 'svm__kernel': 'linear'}</td>\n",
       "      <td>0.864238</td>\n",
       "      <td>0.863896</td>\n",
       "      <td>0.861186</td>\n",
       "      <td>0.870822</td>\n",
       "      <td>0.867811</td>\n",
       "      <td>0.865591</td>\n",
       "      <td>0.003358</td>\n",
       "      <td>1</td>\n",
       "    </tr>\n",
       "    <tr>\n",
       "      <th>21</th>\n",
       "      <td>12.900333</td>\n",
       "      <td>0.405460</td>\n",
       "      <td>0.804322</td>\n",
       "      <td>0.100005</td>\n",
       "      <td>10</td>\n",
       "      <td>linear</td>\n",
       "      <td>{'svm__C': 10, 'svm__kernel': 'linear'}</td>\n",
       "      <td>0.863636</td>\n",
       "      <td>0.863595</td>\n",
       "      <td>0.861186</td>\n",
       "      <td>0.870822</td>\n",
       "      <td>0.867209</td>\n",
       "      <td>0.865290</td>\n",
       "      <td>0.003368</td>\n",
       "      <td>2</td>\n",
       "    </tr>\n",
       "    <tr>\n",
       "      <th>18</th>\n",
       "      <td>11.365912</td>\n",
       "      <td>0.877976</td>\n",
       "      <td>0.825035</td>\n",
       "      <td>0.050918</td>\n",
       "      <td>7</td>\n",
       "      <td>linear</td>\n",
       "      <td>{'svm__C': 7, 'svm__kernel': 'linear'}</td>\n",
       "      <td>0.863937</td>\n",
       "      <td>0.863595</td>\n",
       "      <td>0.860885</td>\n",
       "      <td>0.870220</td>\n",
       "      <td>0.867510</td>\n",
       "      <td>0.865230</td>\n",
       "      <td>0.003265</td>\n",
       "      <td>3</td>\n",
       "    </tr>\n",
       "    <tr>\n",
       "      <th>12</th>\n",
       "      <td>10.614280</td>\n",
       "      <td>2.543778</td>\n",
       "      <td>0.898404</td>\n",
       "      <td>0.075252</td>\n",
       "      <td>3</td>\n",
       "      <td>linear</td>\n",
       "      <td>{'svm__C': 3, 'svm__kernel': 'linear'}</td>\n",
       "      <td>0.863636</td>\n",
       "      <td>0.863896</td>\n",
       "      <td>0.859681</td>\n",
       "      <td>0.870521</td>\n",
       "      <td>0.867510</td>\n",
       "      <td>0.865049</td>\n",
       "      <td>0.003692</td>\n",
       "      <td>4</td>\n",
       "    </tr>\n",
       "    <tr>\n",
       "      <th>9</th>\n",
       "      <td>6.464540</td>\n",
       "      <td>0.260192</td>\n",
       "      <td>0.827298</td>\n",
       "      <td>0.035027</td>\n",
       "      <td>1</td>\n",
       "      <td>linear</td>\n",
       "      <td>{'svm__C': 1, 'svm__kernel': 'linear'}</td>\n",
       "      <td>0.864539</td>\n",
       "      <td>0.862090</td>\n",
       "      <td>0.858777</td>\n",
       "      <td>0.870220</td>\n",
       "      <td>0.865703</td>\n",
       "      <td>0.864266</td>\n",
       "      <td>0.003807</td>\n",
       "      <td>5</td>\n",
       "    </tr>\n",
       "    <tr>\n",
       "      <th>6</th>\n",
       "      <td>6.397783</td>\n",
       "      <td>0.186142</td>\n",
       "      <td>1.048337</td>\n",
       "      <td>0.032099</td>\n",
       "      <td>0.1</td>\n",
       "      <td>linear</td>\n",
       "      <td>{'svm__C': 0.1, 'svm__kernel': 'linear'}</td>\n",
       "      <td>0.860927</td>\n",
       "      <td>0.860283</td>\n",
       "      <td>0.855465</td>\n",
       "      <td>0.866305</td>\n",
       "      <td>0.860885</td>\n",
       "      <td>0.860773</td>\n",
       "      <td>0.003437</td>\n",
       "      <td>6</td>\n",
       "    </tr>\n",
       "    <tr>\n",
       "      <th>16</th>\n",
       "      <td>8.158323</td>\n",
       "      <td>0.497423</td>\n",
       "      <td>3.253651</td>\n",
       "      <td>0.202318</td>\n",
       "      <td>5</td>\n",
       "      <td>rbf</td>\n",
       "      <td>{'svm__C': 5, 'svm__kernel': 'rbf'}</td>\n",
       "      <td>0.854305</td>\n",
       "      <td>0.861186</td>\n",
       "      <td>0.851551</td>\n",
       "      <td>0.866606</td>\n",
       "      <td>0.856369</td>\n",
       "      <td>0.858003</td>\n",
       "      <td>0.005332</td>\n",
       "      <td>7</td>\n",
       "    </tr>\n",
       "    <tr>\n",
       "      <th>13</th>\n",
       "      <td>9.018202</td>\n",
       "      <td>0.647946</td>\n",
       "      <td>3.715831</td>\n",
       "      <td>0.853444</td>\n",
       "      <td>3</td>\n",
       "      <td>rbf</td>\n",
       "      <td>{'svm__C': 3, 'svm__kernel': 'rbf'}</td>\n",
       "      <td>0.855208</td>\n",
       "      <td>0.858476</td>\n",
       "      <td>0.850346</td>\n",
       "      <td>0.868413</td>\n",
       "      <td>0.854863</td>\n",
       "      <td>0.857461</td>\n",
       "      <td>0.006057</td>\n",
       "      <td>8</td>\n",
       "    </tr>\n",
       "    <tr>\n",
       "      <th>19</th>\n",
       "      <td>8.471563</td>\n",
       "      <td>0.831210</td>\n",
       "      <td>3.254791</td>\n",
       "      <td>0.257965</td>\n",
       "      <td>7</td>\n",
       "      <td>rbf</td>\n",
       "      <td>{'svm__C': 7, 'svm__kernel': 'rbf'}</td>\n",
       "      <td>0.853101</td>\n",
       "      <td>0.857272</td>\n",
       "      <td>0.851551</td>\n",
       "      <td>0.866606</td>\n",
       "      <td>0.855766</td>\n",
       "      <td>0.856859</td>\n",
       "      <td>0.005267</td>\n",
       "      <td>9</td>\n",
       "    </tr>\n",
       "    <tr>\n",
       "      <th>22</th>\n",
       "      <td>7.552018</td>\n",
       "      <td>0.668154</td>\n",
       "      <td>2.892704</td>\n",
       "      <td>0.144520</td>\n",
       "      <td>10</td>\n",
       "      <td>rbf</td>\n",
       "      <td>{'svm__C': 10, 'svm__kernel': 'rbf'}</td>\n",
       "      <td>0.851294</td>\n",
       "      <td>0.852153</td>\n",
       "      <td>0.852153</td>\n",
       "      <td>0.866908</td>\n",
       "      <td>0.858175</td>\n",
       "      <td>0.856137</td>\n",
       "      <td>0.005922</td>\n",
       "      <td>10</td>\n",
       "    </tr>\n",
       "  </tbody>\n",
       "</table>\n",
       "</div>"
      ],
      "text/plain": [
       "    mean_fit_time  std_fit_time  mean_score_time  std_score_time param_svm__C  \\\n",
       "15       9.780334      0.692392         0.835876        0.055919            5   \n",
       "21      12.900333      0.405460         0.804322        0.100005           10   \n",
       "18      11.365912      0.877976         0.825035        0.050918            7   \n",
       "12      10.614280      2.543778         0.898404        0.075252            3   \n",
       "9        6.464540      0.260192         0.827298        0.035027            1   \n",
       "6        6.397783      0.186142         1.048337        0.032099          0.1   \n",
       "16       8.158323      0.497423         3.253651        0.202318            5   \n",
       "13       9.018202      0.647946         3.715831        0.853444            3   \n",
       "19       8.471563      0.831210         3.254791        0.257965            7   \n",
       "22       7.552018      0.668154         2.892704        0.144520           10   \n",
       "\n",
       "   param_svm__kernel                                    params  \\\n",
       "15            linear    {'svm__C': 5, 'svm__kernel': 'linear'}   \n",
       "21            linear   {'svm__C': 10, 'svm__kernel': 'linear'}   \n",
       "18            linear    {'svm__C': 7, 'svm__kernel': 'linear'}   \n",
       "12            linear    {'svm__C': 3, 'svm__kernel': 'linear'}   \n",
       "9             linear    {'svm__C': 1, 'svm__kernel': 'linear'}   \n",
       "6             linear  {'svm__C': 0.1, 'svm__kernel': 'linear'}   \n",
       "16               rbf       {'svm__C': 5, 'svm__kernel': 'rbf'}   \n",
       "13               rbf       {'svm__C': 3, 'svm__kernel': 'rbf'}   \n",
       "19               rbf       {'svm__C': 7, 'svm__kernel': 'rbf'}   \n",
       "22               rbf      {'svm__C': 10, 'svm__kernel': 'rbf'}   \n",
       "\n",
       "    split0_test_score  split1_test_score  split2_test_score  \\\n",
       "15           0.864238           0.863896           0.861186   \n",
       "21           0.863636           0.863595           0.861186   \n",
       "18           0.863937           0.863595           0.860885   \n",
       "12           0.863636           0.863896           0.859681   \n",
       "9            0.864539           0.862090           0.858777   \n",
       "6            0.860927           0.860283           0.855465   \n",
       "16           0.854305           0.861186           0.851551   \n",
       "13           0.855208           0.858476           0.850346   \n",
       "19           0.853101           0.857272           0.851551   \n",
       "22           0.851294           0.852153           0.852153   \n",
       "\n",
       "    split3_test_score  split4_test_score  mean_test_score  std_test_score  \\\n",
       "15           0.870822           0.867811         0.865591        0.003358   \n",
       "21           0.870822           0.867209         0.865290        0.003368   \n",
       "18           0.870220           0.867510         0.865230        0.003265   \n",
       "12           0.870521           0.867510         0.865049        0.003692   \n",
       "9            0.870220           0.865703         0.864266        0.003807   \n",
       "6            0.866305           0.860885         0.860773        0.003437   \n",
       "16           0.866606           0.856369         0.858003        0.005332   \n",
       "13           0.868413           0.854863         0.857461        0.006057   \n",
       "19           0.866606           0.855766         0.856859        0.005267   \n",
       "22           0.866908           0.858175         0.856137        0.005922   \n",
       "\n",
       "    rank_test_score  \n",
       "15                1  \n",
       "21                2  \n",
       "18                3  \n",
       "12                4  \n",
       "9                 5  \n",
       "6                 6  \n",
       "16                7  \n",
       "13                8  \n",
       "19                9  \n",
       "22               10  "
      ]
     },
     "execution_count": 7,
     "metadata": {},
     "output_type": "execute_result"
    }
   ],
   "source": [
    "# Print top 10 hyperparameters selection that gives top 10 accuracy score\n",
    "tuning_results.sort_values('rank_test_score').head(10)"
   ]
  },
  {
   "cell_type": "code",
   "execution_count": 8,
   "metadata": {},
   "outputs": [
    {
     "data": {
      "text/plain": [
       "{'svm__C': 5, 'svm__kernel': 'linear'}"
      ]
     },
     "execution_count": 8,
     "metadata": {},
     "output_type": "execute_result"
    }
   ],
   "source": [
    "best_svm_hyperparams"
   ]
  },
  {
   "cell_type": "code",
   "execution_count": 9,
   "metadata": {},
   "outputs": [
    {
     "name": "stdout",
     "output_type": "stream",
     "text": [
      "              precision    recall  f1-score   support\n",
      "\n",
      "           0     0.8791    0.9405    0.9088      2018\n",
      "           1     0.8609    0.8162    0.8380      2465\n",
      "           2     0.7288    0.7152    0.7219      1942\n",
      "           3     0.7196    0.7210    0.7203      2018\n",
      "           4     0.8429    0.8299    0.8364      2328\n",
      "           5     0.9416    0.9611    0.9512      2598\n",
      "           6     0.9972    0.9975    0.9974      3237\n",
      "\n",
      "    accuracy                         0.8679     16606\n",
      "   macro avg     0.8529    0.8545    0.8534     16606\n",
      "weighted avg     0.8672    0.8679    0.8673     16606\n",
      "\n"
     ]
    }
   ],
   "source": [
    "print(classification_report(y_train, best_svm.predict(X_train), digits=4))"
   ]
  },
  {
   "cell_type": "code",
   "execution_count": 10,
   "metadata": {},
   "outputs": [
    {
     "name": "stdout",
     "output_type": "stream",
     "text": [
      "              precision    recall  f1-score   support\n",
      "\n",
      "           0     0.8858    0.9525    0.9179       505\n",
      "           1     0.8746    0.8136    0.8430       617\n",
      "           2     0.7358    0.7237    0.7297       485\n",
      "           3     0.7239    0.7024    0.7130       504\n",
      "           4     0.8238    0.8436    0.8336       582\n",
      "           5     0.9413    0.9615    0.9513       650\n",
      "           6     0.9963    0.9963    0.9963       809\n",
      "\n",
      "    accuracy                         0.8695      4152\n",
      "   macro avg     0.8545    0.8562    0.8550      4152\n",
      "weighted avg     0.8685    0.8695    0.8686      4152\n",
      "\n"
     ]
    }
   ],
   "source": [
    "y_predict = best_svm.predict(X_test)\n",
    "print(classification_report(y_test, y_predict, digits=4))"
   ]
  },
  {
   "cell_type": "code",
   "execution_count": 11,
   "metadata": {},
   "outputs": [
    {
     "data": {
      "image/png": "[encoded data removed]",
      "text/plain": [
       "<Figure size 576x432 with 2 Axes>"
      ]
     },
     "metadata": {
      "needs_background": "light"
     },
     "output_type": "display_data"
    }
   ],
   "source": [
    "plot_confusion_matrix(y_test, y_predict, 'Confusion Matrix of SVM')"
   ]
  },
  {
   "cell_type": "markdown",
   "metadata": {},
   "source": [
    "### Step 4 | Retrain SVM with feature selection with tuning hyperparameters  "
   ]
  },
  {
   "cell_type": "markdown",
   "metadata": {},
   "source": [
    "#### Step 4.1 | Feature selection by Random Forest"
   ]
  },
  {
   "cell_type": "code",
   "execution_count": 12,
   "metadata": {},
   "outputs": [],
   "source": [
    "selected_features_rf = ['Gender', 'Age', 'Height', 'Weight', 'family_history_with_overweight',\n",
    "       'FCVC', 'NCP', 'CH2O', 'FAF', 'TUE']"
   ]
  },
  {
   "cell_type": "code",
   "execution_count": 13,
   "metadata": {},
   "outputs": [],
   "source": [
    "X_train_select_rf = X_train[selected_features_rf]\n",
    "X_test_select_rf = X_test[selected_features_rf]"
   ]
  },
  {
   "cell_type": "code",
   "execution_count": 14,
   "metadata": {},
   "outputs": [],
   "source": [
    "svm_pipeline_2 = Pipeline([\n",
    "    ('scaler', StandardScaler()),\n",
    "    ('svm', SVC(C = 5, kernel='linear'))\n",
    "])"
   ]
  },
  {
   "cell_type": "code",
   "execution_count": 15,
   "metadata": {},
   "outputs": [
    {
     "data": {
      "text/plain": [
       "Pipeline(steps=[('scaler', StandardScaler()),\n",
       "                ('svm', SVC(C=5, kernel='linear'))])"
      ]
     },
     "execution_count": 15,
     "metadata": {},
     "output_type": "execute_result"
    }
   ],
   "source": [
    "svm_pipeline_2.fit(X_train_select_rf, y_train)"
   ]
  },
  {
   "cell_type": "code",
   "execution_count": 16,
   "metadata": {},
   "outputs": [
    {
     "name": "stdout",
     "output_type": "stream",
     "text": [
      "              precision    recall  f1-score   support\n",
      "\n",
      "           0     0.8753    0.9356    0.9044      2018\n",
      "           1     0.8586    0.7984    0.8274      2465\n",
      "           2     0.6822    0.7106    0.6961      1942\n",
      "           3     0.7102    0.6739    0.6916      2018\n",
      "           4     0.8321    0.8325    0.8323      2328\n",
      "           5     0.9400    0.9596    0.9497      2598\n",
      "           6     0.9972    0.9975    0.9974      3237\n",
      "\n",
      "    accuracy                         0.8585     16606\n",
      "   macro avg     0.8422    0.8440    0.8427     16606\n",
      "weighted avg     0.8580    0.8585    0.8579     16606\n",
      "\n"
     ]
    }
   ],
   "source": [
    "print(classification_report(y_train, svm_pipeline_2.predict(X_train_select_rf), digits=4))"
   ]
  },
  {
   "cell_type": "code",
   "execution_count": 17,
   "metadata": {},
   "outputs": [
    {
     "name": "stdout",
     "output_type": "stream",
     "text": [
      "              precision    recall  f1-score   support\n",
      "\n",
      "           0     0.8829    0.9406    0.9108       505\n",
      "           1     0.8734    0.7942    0.8319       617\n",
      "           2     0.7028    0.7216    0.7121       485\n",
      "           3     0.7241    0.6925    0.7079       504\n",
      "           4     0.8206    0.8488    0.8345       582\n",
      "           5     0.9441    0.9615    0.9527       650\n",
      "           6     0.9951    0.9951    0.9951       809\n",
      "\n",
      "    accuracy                         0.8642      4152\n",
      "   macro avg     0.8490    0.8506    0.8493      4152\n",
      "weighted avg     0.8639    0.8642    0.8635      4152\n",
      "\n"
     ]
    }
   ],
   "source": [
    "y_predict2 = svm_pipeline_2.predict(X_test_select_rf)\n",
    "print(classification_report(y_test, y_predict2, digits=4))"
   ]
  },
  {
   "cell_type": "code",
   "execution_count": 18,
   "metadata": {},
   "outputs": [
    {
     "data": {
      "image/png": "[encoded data removed]",
      "text/plain": [
       "<Figure size 576x432 with 2 Axes>"
      ]
     },
     "metadata": {
      "needs_background": "light"
     },
     "output_type": "display_data"
    }
   ],
   "source": [
    "plot_confusion_matrix(y_test, y_predict2, 'Confusion Matrix of SVM with Feature Selection (RF)')"
   ]
  },
  {
   "cell_type": "markdown",
   "metadata": {},
   "source": [
    "#### Step 4.2 | Feature selection by Decision Tree"
   ]
  },
  {
   "cell_type": "code",
   "execution_count": 19,
   "metadata": {},
   "outputs": [],
   "source": [
    "selected_features_dt = ['Gender', 'Age', 'Height', 'Weight', 'FCVC', 'NCP', 'CH2O', 'FAF',\n",
    "       'TUE', 'CALC']"
   ]
  },
  {
   "cell_type": "code",
   "execution_count": 20,
   "metadata": {},
   "outputs": [],
   "source": [
    "X_train_select_dt = X_train[selected_features_dt]\n",
    "X_test_select_dt = X_test[selected_features_dt]"
   ]
  },
  {
   "cell_type": "code",
   "execution_count": 21,
   "metadata": {},
   "outputs": [
    {
     "data": {
      "text/plain": [
       "Pipeline(steps=[('scaler', StandardScaler()),\n",
       "                ('svm', SVC(C=5, kernel='linear'))])"
      ]
     },
     "execution_count": 21,
     "metadata": {},
     "output_type": "execute_result"
    }
   ],
   "source": [
    "svm_pipeline_2.fit(X_train_select_dt, y_train)"
   ]
  },
  {
   "cell_type": "code",
   "execution_count": 22,
   "metadata": {},
   "outputs": [
    {
     "name": "stdout",
     "output_type": "stream",
     "text": [
      "              precision    recall  f1-score   support\n",
      "\n",
      "           0     0.8747    0.9371    0.9048      2018\n",
      "           1     0.8573    0.8041    0.8298      2465\n",
      "           2     0.6819    0.7075    0.6945      1942\n",
      "           3     0.6998    0.6596    0.6791      2018\n",
      "           4     0.8323    0.8290    0.8306      2328\n",
      "           5     0.9394    0.9604    0.9498      2598\n",
      "           6     0.9966    0.9975    0.9971      3237\n",
      "\n",
      "    accuracy                         0.8570     16606\n",
      "   macro avg     0.8403    0.8422    0.8408     16606\n",
      "weighted avg     0.8562    0.8570    0.8563     16606\n",
      "\n"
     ]
    }
   ],
   "source": [
    "print(classification_report(y_train, svm_pipeline_2.predict(X_train_select_dt), digits=4))"
   ]
  },
  {
   "cell_type": "code",
   "execution_count": 23,
   "metadata": {},
   "outputs": [
    {
     "name": "stdout",
     "output_type": "stream",
     "text": [
      "              precision    recall  f1-score   support\n",
      "\n",
      "           0     0.8817    0.9446    0.9120       505\n",
      "           1     0.8722    0.8071    0.8384       617\n",
      "           2     0.6952    0.7196    0.7072       485\n",
      "           3     0.7202    0.6587    0.6881       504\n",
      "           4     0.8195    0.8505    0.8347       582\n",
      "           5     0.9427    0.9615    0.9520       650\n",
      "           6     0.9951    0.9963    0.9957       809\n",
      "\n",
      "    accuracy                         0.8627      4152\n",
      "   macro avg     0.8466    0.8483    0.8469      4152\n",
      "weighted avg     0.8618    0.8627    0.8617      4152\n",
      "\n"
     ]
    }
   ],
   "source": [
    "y_predict3 = svm_pipeline_2.predict(X_test_select_dt)\n",
    "print(classification_report(y_test, y_predict3, digits=4))"
   ]
  },
  {
   "cell_type": "code",
   "execution_count": 24,
   "metadata": {},
   "outputs": [
    {
     "data": {
      "image/png": "[encoded data removed]",
      "text/plain": [
       "<Figure size 576x432 with 2 Axes>"
      ]
     },
     "metadata": {
      "needs_background": "light"
     },
     "output_type": "display_data"
    }
   ],
   "source": [
    "plot_confusion_matrix(y_test, y_predict3, 'Confusion Matrix of SVM with Feature Selection (DT)')"
   ]
  }
 ],
 "metadata": {
  "kernelspec": {
   "display_name": "base",
   "language": "python",
   "name": "python3"
  },
  "language_info": {
   "codemirror_mode": {
    "name": "ipython",
    "version": 3
   },
   "file_extension": ".py",
   "mimetype": "text/x-python",
   "name": "python",
   "nbconvert_exporter": "python",
   "pygments_lexer": "ipython3",
   "version": "3.7.1"
  }
 },
 "nbformat": 4,
 "nbformat_minor": 2
}
