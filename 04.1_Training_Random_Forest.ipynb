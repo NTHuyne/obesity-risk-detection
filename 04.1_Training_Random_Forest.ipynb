{
 "cells": [
  {
   "cell_type": "markdown",
   "metadata": {},
   "source": [
    "## Training Random Forest Model"
   ]
  },
  {
   "cell_type": "markdown",
   "metadata": {},
   "source": [
    "### Step 1 | Import libraries"
   ]
  },
  {
   "cell_type": "code",
   "execution_count": 1,
   "metadata": {},
   "outputs": [],
   "source": [
    "import seaborn as sns\n",
    "import matplotlib.pyplot as plt\n",
    "import warnings\n",
    "import numpy as np\n",
    "import pandas as pd\n",
    "from sklearn.metrics import classification_report\n",
    "from sklearn.ensemble import RandomForestClassifier\n",
    "from tune_clf_hyperparameters import tune_clf_hyperparameters\n",
    "from plot_confusion_matrix import plot_confusion_matrix\n",
    "from sklearn.feature_selection import SelectFromModel\n",
    "warnings.filterwarnings(\"ignore\")"
   ]
  },
  {
   "cell_type": "markdown",
   "metadata": {},
   "source": [
    "### Step 2 | Import preprocessed dataset"
   ]
  },
  {
   "cell_type": "code",
   "execution_count": 2,
   "metadata": {},
   "outputs": [],
   "source": [
    "train_df = pd.read_csv('./data/preprocessed_train_df.csv')\n",
    "test_df = pd.read_csv('./data/preprocessed_test_data.csv')"
   ]
  },
  {
   "cell_type": "code",
   "execution_count": 3,
   "metadata": {},
   "outputs": [],
   "source": [
    "X_train = train_df.drop(columns=['NObeyesdad'])\n",
    "y_train = train_df['NObeyesdad']\n",
    "X_test = test_df.drop(columns=['NObeyesdad'])\n",
    "y_test = test_df['NObeyesdad']"
   ]
  },
  {
   "cell_type": "markdown",
   "metadata": {},
   "source": [
    "### Step 3 | Tuning hyperparameters of model"
   ]
  },
  {
   "cell_type": "code",
   "execution_count": 4,
   "metadata": {},
   "outputs": [],
   "source": [
    "# Create a baseline model\n",
    "base_rf = RandomForestClassifier(random_state=42)"
   ]
  },
  {
   "cell_type": "code",
   "execution_count": 5,
   "metadata": {},
   "outputs": [],
   "source": [
    "# Define the space of hyperparameters\n",
    "param_grid_rf = {\n",
    "    'criterion': ['gini', 'entropy'],\n",
    "    'n_estimators': [50, 100, 300, 600, 900],\n",
    "    'max_depth': [None, 5, 10, 20], \n",
    "    'max_features': [None, 'sqrt'] # Here the number of feature is 19, then sqrt and log2 are the same values\n",
    "}"
   ]
  },
  {
   "cell_type": "code",
   "execution_count": 6,
   "metadata": {},
   "outputs": [],
   "source": [
    "# Hyperparameter tuning with pre-defined function\n",
    "best_rf, best_rf_hyperparams, tuning_results = tune_clf_hyperparameters(base_rf, param_grid_rf, X_train, y_train)"
   ]
  },
  {
   "cell_type": "code",
   "execution_count": 7,
   "metadata": {},
   "outputs": [
    {
     "data": {
      "text/html": [
       "<div>\n",
       "<style scoped>\n",
       "    .dataframe tbody tr th:only-of-type {\n",
       "        vertical-align: middle;\n",
       "    }\n",
       "\n",
       "    .dataframe tbody tr th {\n",
       "        vertical-align: top;\n",
       "    }\n",
       "\n",
       "    .dataframe thead th {\n",
       "        text-align: right;\n",
       "    }\n",
       "</style>\n",
       "<table border=\"1\" class=\"dataframe\">\n",
       "  <thead>\n",
       "    <tr style=\"text-align: right;\">\n",
       "      <th></th>\n",
       "      <th>mean_fit_time</th>\n",
       "      <th>std_fit_time</th>\n",
       "      <th>mean_score_time</th>\n",
       "      <th>std_score_time</th>\n",
       "      <th>param_criterion</th>\n",
       "      <th>param_max_depth</th>\n",
       "      <th>param_max_features</th>\n",
       "      <th>param_n_estimators</th>\n",
       "      <th>params</th>\n",
       "      <th>split0_test_score</th>\n",
       "      <th>split1_test_score</th>\n",
       "      <th>split2_test_score</th>\n",
       "      <th>split3_test_score</th>\n",
       "      <th>split4_test_score</th>\n",
       "      <th>mean_test_score</th>\n",
       "      <th>std_test_score</th>\n",
       "      <th>rank_test_score</th>\n",
       "    </tr>\n",
       "  </thead>\n",
       "  <tbody>\n",
       "    <tr>\n",
       "      <th>49</th>\n",
       "      <td>49.587523</td>\n",
       "      <td>0.392388</td>\n",
       "      <td>1.372332</td>\n",
       "      <td>0.009432</td>\n",
       "      <td>entropy</td>\n",
       "      <td>None</td>\n",
       "      <td>sqrt</td>\n",
       "      <td>900</td>\n",
       "      <td>{'criterion': 'entropy', 'max_depth': None, 'm...</td>\n",
       "      <td>0.895846</td>\n",
       "      <td>0.896718</td>\n",
       "      <td>0.888287</td>\n",
       "      <td>0.900030</td>\n",
       "      <td>0.901536</td>\n",
       "      <td>0.896483</td>\n",
       "      <td>0.004599</td>\n",
       "      <td>1</td>\n",
       "    </tr>\n",
       "    <tr>\n",
       "      <th>9</th>\n",
       "      <td>36.205670</td>\n",
       "      <td>0.497276</td>\n",
       "      <td>1.385130</td>\n",
       "      <td>0.031502</td>\n",
       "      <td>gini</td>\n",
       "      <td>None</td>\n",
       "      <td>sqrt</td>\n",
       "      <td>900</td>\n",
       "      <td>{'criterion': 'gini', 'max_depth': None, 'max_...</td>\n",
       "      <td>0.895244</td>\n",
       "      <td>0.898826</td>\n",
       "      <td>0.887986</td>\n",
       "      <td>0.901536</td>\n",
       "      <td>0.898223</td>\n",
       "      <td>0.896363</td>\n",
       "      <td>0.004641</td>\n",
       "      <td>2</td>\n",
       "    </tr>\n",
       "    <tr>\n",
       "      <th>8</th>\n",
       "      <td>23.490929</td>\n",
       "      <td>0.382024</td>\n",
       "      <td>0.961913</td>\n",
       "      <td>0.024961</td>\n",
       "      <td>gini</td>\n",
       "      <td>None</td>\n",
       "      <td>sqrt</td>\n",
       "      <td>600</td>\n",
       "      <td>{'criterion': 'gini', 'max_depth': None, 'max_...</td>\n",
       "      <td>0.896448</td>\n",
       "      <td>0.897621</td>\n",
       "      <td>0.886781</td>\n",
       "      <td>0.902740</td>\n",
       "      <td>0.897621</td>\n",
       "      <td>0.896242</td>\n",
       "      <td>0.005207</td>\n",
       "      <td>3</td>\n",
       "    </tr>\n",
       "    <tr>\n",
       "      <th>37</th>\n",
       "      <td>11.477504</td>\n",
       "      <td>0.118981</td>\n",
       "      <td>0.498288</td>\n",
       "      <td>0.029914</td>\n",
       "      <td>gini</td>\n",
       "      <td>20</td>\n",
       "      <td>sqrt</td>\n",
       "      <td>300</td>\n",
       "      <td>{'criterion': 'gini', 'max_depth': 20, 'max_fe...</td>\n",
       "      <td>0.896448</td>\n",
       "      <td>0.896417</td>\n",
       "      <td>0.887684</td>\n",
       "      <td>0.900030</td>\n",
       "      <td>0.900030</td>\n",
       "      <td>0.896122</td>\n",
       "      <td>0.004515</td>\n",
       "      <td>4</td>\n",
       "    </tr>\n",
       "    <tr>\n",
       "      <th>7</th>\n",
       "      <td>12.110961</td>\n",
       "      <td>0.374465</td>\n",
       "      <td>0.476996</td>\n",
       "      <td>0.015249</td>\n",
       "      <td>gini</td>\n",
       "      <td>None</td>\n",
       "      <td>sqrt</td>\n",
       "      <td>300</td>\n",
       "      <td>{'criterion': 'gini', 'max_depth': None, 'max_...</td>\n",
       "      <td>0.895244</td>\n",
       "      <td>0.897621</td>\n",
       "      <td>0.885878</td>\n",
       "      <td>0.902138</td>\n",
       "      <td>0.898826</td>\n",
       "      <td>0.895941</td>\n",
       "      <td>0.005501</td>\n",
       "      <td>5</td>\n",
       "    </tr>\n",
       "    <tr>\n",
       "      <th>39</th>\n",
       "      <td>35.467846</td>\n",
       "      <td>0.367401</td>\n",
       "      <td>1.442509</td>\n",
       "      <td>0.020129</td>\n",
       "      <td>gini</td>\n",
       "      <td>20</td>\n",
       "      <td>sqrt</td>\n",
       "      <td>900</td>\n",
       "      <td>{'criterion': 'gini', 'max_depth': 20, 'max_fe...</td>\n",
       "      <td>0.896448</td>\n",
       "      <td>0.896116</td>\n",
       "      <td>0.887383</td>\n",
       "      <td>0.900030</td>\n",
       "      <td>0.899127</td>\n",
       "      <td>0.895821</td>\n",
       "      <td>0.004479</td>\n",
       "      <td>6</td>\n",
       "    </tr>\n",
       "    <tr>\n",
       "      <th>47</th>\n",
       "      <td>16.251115</td>\n",
       "      <td>0.168323</td>\n",
       "      <td>0.462535</td>\n",
       "      <td>0.016932</td>\n",
       "      <td>entropy</td>\n",
       "      <td>None</td>\n",
       "      <td>sqrt</td>\n",
       "      <td>300</td>\n",
       "      <td>{'criterion': 'entropy', 'max_depth': None, 'm...</td>\n",
       "      <td>0.894642</td>\n",
       "      <td>0.895815</td>\n",
       "      <td>0.887684</td>\n",
       "      <td>0.900030</td>\n",
       "      <td>0.900632</td>\n",
       "      <td>0.895761</td>\n",
       "      <td>0.004657</td>\n",
       "      <td>7</td>\n",
       "    </tr>\n",
       "    <tr>\n",
       "      <th>38</th>\n",
       "      <td>23.616844</td>\n",
       "      <td>0.311100</td>\n",
       "      <td>0.939727</td>\n",
       "      <td>0.011753</td>\n",
       "      <td>gini</td>\n",
       "      <td>20</td>\n",
       "      <td>sqrt</td>\n",
       "      <td>600</td>\n",
       "      <td>{'criterion': 'gini', 'max_depth': 20, 'max_fe...</td>\n",
       "      <td>0.895244</td>\n",
       "      <td>0.896718</td>\n",
       "      <td>0.887986</td>\n",
       "      <td>0.900933</td>\n",
       "      <td>0.897922</td>\n",
       "      <td>0.895761</td>\n",
       "      <td>0.004314</td>\n",
       "      <td>8</td>\n",
       "    </tr>\n",
       "    <tr>\n",
       "      <th>79</th>\n",
       "      <td>44.516483</td>\n",
       "      <td>5.595225</td>\n",
       "      <td>1.052146</td>\n",
       "      <td>0.264863</td>\n",
       "      <td>entropy</td>\n",
       "      <td>20</td>\n",
       "      <td>sqrt</td>\n",
       "      <td>900</td>\n",
       "      <td>{'criterion': 'entropy', 'max_depth': 20, 'max...</td>\n",
       "      <td>0.895545</td>\n",
       "      <td>0.897621</td>\n",
       "      <td>0.885276</td>\n",
       "      <td>0.898223</td>\n",
       "      <td>0.902138</td>\n",
       "      <td>0.895761</td>\n",
       "      <td>0.005660</td>\n",
       "      <td>9</td>\n",
       "    </tr>\n",
       "    <tr>\n",
       "      <th>73</th>\n",
       "      <td>93.562027</td>\n",
       "      <td>0.822347</td>\n",
       "      <td>0.806526</td>\n",
       "      <td>0.016221</td>\n",
       "      <td>entropy</td>\n",
       "      <td>20</td>\n",
       "      <td>None</td>\n",
       "      <td>600</td>\n",
       "      <td>{'criterion': 'entropy', 'max_depth': 20, 'max...</td>\n",
       "      <td>0.890427</td>\n",
       "      <td>0.897320</td>\n",
       "      <td>0.892201</td>\n",
       "      <td>0.897922</td>\n",
       "      <td>0.900030</td>\n",
       "      <td>0.895580</td>\n",
       "      <td>0.003641</td>\n",
       "      <td>10</td>\n",
       "    </tr>\n",
       "  </tbody>\n",
       "</table>\n",
       "</div>"
      ],
      "text/plain": [
       "    mean_fit_time  std_fit_time  mean_score_time  std_score_time  \\\n",
       "49      49.587523      0.392388         1.372332        0.009432   \n",
       "9       36.205670      0.497276         1.385130        0.031502   \n",
       "8       23.490929      0.382024         0.961913        0.024961   \n",
       "37      11.477504      0.118981         0.498288        0.029914   \n",
       "7       12.110961      0.374465         0.476996        0.015249   \n",
       "39      35.467846      0.367401         1.442509        0.020129   \n",
       "47      16.251115      0.168323         0.462535        0.016932   \n",
       "38      23.616844      0.311100         0.939727        0.011753   \n",
       "79      44.516483      5.595225         1.052146        0.264863   \n",
       "73      93.562027      0.822347         0.806526        0.016221   \n",
       "\n",
       "   param_criterion param_max_depth param_max_features param_n_estimators  \\\n",
       "49         entropy            None               sqrt                900   \n",
       "9             gini            None               sqrt                900   \n",
       "8             gini            None               sqrt                600   \n",
       "37            gini              20               sqrt                300   \n",
       "7             gini            None               sqrt                300   \n",
       "39            gini              20               sqrt                900   \n",
       "47         entropy            None               sqrt                300   \n",
       "38            gini              20               sqrt                600   \n",
       "79         entropy              20               sqrt                900   \n",
       "73         entropy              20               None                600   \n",
       "\n",
       "                                               params  split0_test_score  \\\n",
       "49  {'criterion': 'entropy', 'max_depth': None, 'm...           0.895846   \n",
       "9   {'criterion': 'gini', 'max_depth': None, 'max_...           0.895244   \n",
       "8   {'criterion': 'gini', 'max_depth': None, 'max_...           0.896448   \n",
       "37  {'criterion': 'gini', 'max_depth': 20, 'max_fe...           0.896448   \n",
       "7   {'criterion': 'gini', 'max_depth': None, 'max_...           0.895244   \n",
       "39  {'criterion': 'gini', 'max_depth': 20, 'max_fe...           0.896448   \n",
       "47  {'criterion': 'entropy', 'max_depth': None, 'm...           0.894642   \n",
       "38  {'criterion': 'gini', 'max_depth': 20, 'max_fe...           0.895244   \n",
       "79  {'criterion': 'entropy', 'max_depth': 20, 'max...           0.895545   \n",
       "73  {'criterion': 'entropy', 'max_depth': 20, 'max...           0.890427   \n",
       "\n",
       "    split1_test_score  split2_test_score  split3_test_score  \\\n",
       "49           0.896718           0.888287           0.900030   \n",
       "9            0.898826           0.887986           0.901536   \n",
       "8            0.897621           0.886781           0.902740   \n",
       "37           0.896417           0.887684           0.900030   \n",
       "7            0.897621           0.885878           0.902138   \n",
       "39           0.896116           0.887383           0.900030   \n",
       "47           0.895815           0.887684           0.900030   \n",
       "38           0.896718           0.887986           0.900933   \n",
       "79           0.897621           0.885276           0.898223   \n",
       "73           0.897320           0.892201           0.897922   \n",
       "\n",
       "    split4_test_score  mean_test_score  std_test_score  rank_test_score  \n",
       "49           0.901536         0.896483        0.004599                1  \n",
       "9            0.898223         0.896363        0.004641                2  \n",
       "8            0.897621         0.896242        0.005207                3  \n",
       "37           0.900030         0.896122        0.004515                4  \n",
       "7            0.898826         0.895941        0.005501                5  \n",
       "39           0.899127         0.895821        0.004479                6  \n",
       "47           0.900632         0.895761        0.004657                7  \n",
       "38           0.897922         0.895761        0.004314                8  \n",
       "79           0.902138         0.895761        0.005660                9  \n",
       "73           0.900030         0.895580        0.003641               10  "
      ]
     },
     "execution_count": 7,
     "metadata": {},
     "output_type": "execute_result"
    }
   ],
   "source": [
    "# Print top 10 hyperparameters selection that gives top 10 accuracy score\n",
    "tuning_results.sort_values('rank_test_score').head(10)"
   ]
  },
  {
   "cell_type": "code",
   "execution_count": 8,
   "metadata": {},
   "outputs": [
    {
     "data": {
      "text/plain": [
       "{'criterion': 'entropy',\n",
       " 'max_depth': None,\n",
       " 'max_features': 'sqrt',\n",
       " 'n_estimators': 900}"
      ]
     },
     "execution_count": 8,
     "metadata": {},
     "output_type": "execute_result"
    }
   ],
   "source": [
    "best_rf_hyperparams"
   ]
  },
  {
   "cell_type": "code",
   "execution_count": 9,
   "metadata": {},
   "outputs": [
    {
     "name": "stdout",
     "output_type": "stream",
     "text": [
      "              precision    recall  f1-score   support\n",
      "\n",
      "           0     1.0000    1.0000    1.0000      2018\n",
      "           1     1.0000    1.0000    1.0000      2465\n",
      "           2     1.0000    1.0000    1.0000      1942\n",
      "           3     1.0000    1.0000    1.0000      2018\n",
      "           4     1.0000    1.0000    1.0000      2328\n",
      "           5     1.0000    1.0000    1.0000      2598\n",
      "           6     1.0000    1.0000    1.0000      3237\n",
      "\n",
      "    accuracy                         1.0000     16606\n",
      "   macro avg     1.0000    1.0000    1.0000     16606\n",
      "weighted avg     1.0000    1.0000    1.0000     16606\n",
      "\n"
     ]
    }
   ],
   "source": [
    "print(classification_report(y_train, best_rf.predict(X_train), digits=4))"
   ]
  },
  {
   "cell_type": "code",
   "execution_count": 10,
   "metadata": {},
   "outputs": [
    {
     "name": "stdout",
     "output_type": "stream",
     "text": [
      "              precision    recall  f1-score   support\n",
      "\n",
      "           0     0.9320    0.9505    0.9412       505\n",
      "           1     0.8626    0.8849    0.8736       617\n",
      "           2     0.8207    0.7361    0.7761       485\n",
      "           3     0.7885    0.8135    0.8008       504\n",
      "           4     0.8891    0.8952    0.8921       582\n",
      "           5     0.9664    0.9723    0.9693       650\n",
      "           6     0.9963    0.9963    0.9963       809\n",
      "\n",
      "    accuracy                         0.9037      4152\n",
      "   macro avg     0.8936    0.8927    0.8928      4152\n",
      "weighted avg     0.9031    0.9037    0.9031      4152\n",
      "\n"
     ]
    }
   ],
   "source": [
    "y_predict = best_rf.predict(X_test)\n",
    "print(classification_report(y_test, y_predict, digits=4))"
   ]
  },
  {
   "cell_type": "code",
   "execution_count": 11,
   "metadata": {},
   "outputs": [
    {
     "data": {
      "image/png": "[encoded data removed]",
      "text/plain": [
       "<Figure size 800x600 with 2 Axes>"
      ]
     },
     "metadata": {},
     "output_type": "display_data"
    }
   ],
   "source": [
    "plot_confusion_matrix(y_test, y_predict, 'Confusion Matrix of Random Forest')"
   ]
  },
  {
   "cell_type": "markdown",
   "metadata": {},
   "source": [
    "### Step 4 | Feature Selection Using Random Forest"
   ]
  },
  {
   "cell_type": "markdown",
   "metadata": {},
   "source": [
    "#### Step 4.1 | Extracting selected feature from Random Forest"
   ]
  },
  {
   "cell_type": "code",
   "execution_count": 12,
   "metadata": {},
   "outputs": [],
   "source": [
    "best_rf_feature_selection = SelectFromModel(RandomForestClassifier(criterion = 'entropy', max_depth = None, max_features = 'sqrt', n_estimators = 900), threshold = 'median')"
   ]
  },
  {
   "cell_type": "code",
   "execution_count": 13,
   "metadata": {},
   "outputs": [
    {
     "data": {
      "text/html": [
       "<style>#sk-container-id-1 {color: black;background-color: white;}#sk-container-id-1 pre{padding: 0;}#sk-container-id-1 div.sk-toggleable {background-color: white;}#sk-container-id-1 label.sk-toggleable__label {cursor: pointer;display: block;width: 100%;margin-bottom: 0;padding: 0.3em;box-sizing: border-box;text-align: center;}#sk-container-id-1 label.sk-toggleable__label-arrow:before {content: \"▸\";float: left;margin-right: 0.25em;color: #696969;}#sk-container-id-1 label.sk-toggleable__label-arrow:hover:before {color: black;}#sk-container-id-1 div.sk-estimator:hover label.sk-toggleable__label-arrow:before {color: black;}#sk-container-id-1 div.sk-toggleable__content {max-height: 0;max-width: 0;overflow: hidden;text-align: left;background-color: #f0f8ff;}#sk-container-id-1 div.sk-toggleable__content pre {margin: 0.2em;color: black;border-radius: 0.25em;background-color: #f0f8ff;}#sk-container-id-1 input.sk-toggleable__control:checked~div.sk-toggleable__content {max-height: 200px;max-width: 100%;overflow: auto;}#sk-container-id-1 input.sk-toggleable__control:checked~label.sk-toggleable__label-arrow:before {content: \"▾\";}#sk-container-id-1 div.sk-estimator input.sk-toggleable__control:checked~label.sk-toggleable__label {background-color: #d4ebff;}#sk-container-id-1 div.sk-label input.sk-toggleable__control:checked~label.sk-toggleable__label {background-color: #d4ebff;}#sk-container-id-1 input.sk-hidden--visually {border: 0;clip: rect(1px 1px 1px 1px);clip: rect(1px, 1px, 1px, 1px);height: 1px;margin: -1px;overflow: hidden;padding: 0;position: absolute;width: 1px;}#sk-container-id-1 div.sk-estimator {font-family: monospace;background-color: #f0f8ff;border: 1px dotted black;border-radius: 0.25em;box-sizing: border-box;margin-bottom: 0.5em;}#sk-container-id-1 div.sk-estimator:hover {background-color: #d4ebff;}#sk-container-id-1 div.sk-parallel-item::after {content: \"\";width: 100%;border-bottom: 1px solid gray;flex-grow: 1;}#sk-container-id-1 div.sk-label:hover label.sk-toggleable__label {background-color: #d4ebff;}#sk-container-id-1 div.sk-serial::before {content: \"\";position: absolute;border-left: 1px solid gray;box-sizing: border-box;top: 0;bottom: 0;left: 50%;z-index: 0;}#sk-container-id-1 div.sk-serial {display: flex;flex-direction: column;align-items: center;background-color: white;padding-right: 0.2em;padding-left: 0.2em;position: relative;}#sk-container-id-1 div.sk-item {position: relative;z-index: 1;}#sk-container-id-1 div.sk-parallel {display: flex;align-items: stretch;justify-content: center;background-color: white;position: relative;}#sk-container-id-1 div.sk-item::before, #sk-container-id-1 div.sk-parallel-item::before {content: \"\";position: absolute;border-left: 1px solid gray;box-sizing: border-box;top: 0;bottom: 0;left: 50%;z-index: -1;}#sk-container-id-1 div.sk-parallel-item {display: flex;flex-direction: column;z-index: 1;position: relative;background-color: white;}#sk-container-id-1 div.sk-parallel-item:first-child::after {align-self: flex-end;width: 50%;}#sk-container-id-1 div.sk-parallel-item:last-child::after {align-self: flex-start;width: 50%;}#sk-container-id-1 div.sk-parallel-item:only-child::after {width: 0;}#sk-container-id-1 div.sk-dashed-wrapped {border: 1px dashed gray;margin: 0 0.4em 0.5em 0.4em;box-sizing: border-box;padding-bottom: 0.4em;background-color: white;}#sk-container-id-1 div.sk-label label {font-family: monospace;font-weight: bold;display: inline-block;line-height: 1.2em;}#sk-container-id-1 div.sk-label-container {text-align: center;}#sk-container-id-1 div.sk-container {/* jupyter's `normalize.less` sets `[hidden] { display: none; }` but bootstrap.min.css set `[hidden] { display: none !important; }` so we also need the `!important` here to be able to override the default hidden behavior on the sphinx rendered scikit-learn.org. See: https://github.com/scikit-learn/scikit-learn/issues/21755 */display: inline-block !important;position: relative;}#sk-container-id-1 div.sk-text-repr-fallback {display: none;}</style><div id=\"sk-container-id-1\" class=\"sk-top-container\"><div class=\"sk-text-repr-fallback\"><pre>SelectFromModel(estimator=RandomForestClassifier(criterion=&#x27;entropy&#x27;,\n",
       "                                                 n_estimators=900),\n",
       "                threshold=&#x27;median&#x27;)</pre><b>In a Jupyter environment, please rerun this cell to show the HTML representation or trust the notebook. <br />On GitHub, the HTML representation is unable to render, please try loading this page with nbviewer.org.</b></div><div class=\"sk-container\" hidden><div class=\"sk-item sk-dashed-wrapped\"><div class=\"sk-label-container\"><div class=\"sk-label sk-toggleable\"><input class=\"sk-toggleable__control sk-hidden--visually\" id=\"sk-estimator-id-1\" type=\"checkbox\" ><label for=\"sk-estimator-id-1\" class=\"sk-toggleable__label sk-toggleable__label-arrow\">SelectFromModel</label><div class=\"sk-toggleable__content\"><pre>SelectFromModel(estimator=RandomForestClassifier(criterion=&#x27;entropy&#x27;,\n",
       "                                                 n_estimators=900),\n",
       "                threshold=&#x27;median&#x27;)</pre></div></div></div><div class=\"sk-parallel\"><div class=\"sk-parallel-item\"><div class=\"sk-item\"><div class=\"sk-label-container\"><div class=\"sk-label sk-toggleable\"><input class=\"sk-toggleable__control sk-hidden--visually\" id=\"sk-estimator-id-2\" type=\"checkbox\" ><label for=\"sk-estimator-id-2\" class=\"sk-toggleable__label sk-toggleable__label-arrow\">estimator: RandomForestClassifier</label><div class=\"sk-toggleable__content\"><pre>RandomForestClassifier(criterion=&#x27;entropy&#x27;, n_estimators=900)</pre></div></div></div><div class=\"sk-serial\"><div class=\"sk-item\"><div class=\"sk-estimator sk-toggleable\"><input class=\"sk-toggleable__control sk-hidden--visually\" id=\"sk-estimator-id-3\" type=\"checkbox\" ><label for=\"sk-estimator-id-3\" class=\"sk-toggleable__label sk-toggleable__label-arrow\">RandomForestClassifier</label><div class=\"sk-toggleable__content\"><pre>RandomForestClassifier(criterion=&#x27;entropy&#x27;, n_estimators=900)</pre></div></div></div></div></div></div></div></div></div></div>"
      ],
      "text/plain": [
       "SelectFromModel(estimator=RandomForestClassifier(criterion='entropy',\n",
       "                                                 n_estimators=900),\n",
       "                threshold='median')"
      ]
     },
     "execution_count": 13,
     "metadata": {},
     "output_type": "execute_result"
    }
   ],
   "source": [
    "best_rf_feature_selection.fit(X_train, y_train)"
   ]
  },
  {
   "cell_type": "code",
   "execution_count": 14,
   "metadata": {},
   "outputs": [
    {
     "data": {
      "text/plain": [
       "10"
      ]
     },
     "execution_count": 14,
     "metadata": {},
     "output_type": "execute_result"
    }
   ],
   "source": [
    "selected_features = X_train.columns[(best_rf_feature_selection.get_support())]\n",
    "len(selected_features)"
   ]
  },
  {
   "cell_type": "code",
   "execution_count": 15,
   "metadata": {},
   "outputs": [
    {
     "data": {
      "text/plain": [
       "Index(['Gender', 'Age', 'Height', 'Weight', 'family_history_with_overweight',\n",
       "       'FCVC', 'NCP', 'CH2O', 'FAF', 'TUE'],\n",
       "      dtype='object')"
      ]
     },
     "execution_count": 15,
     "metadata": {},
     "output_type": "execute_result"
    }
   ],
   "source": [
    "selected_features"
   ]
  },
  {
   "cell_type": "markdown",
   "metadata": {},
   "source": [
    "#### Step 4.2 | Retrain Random Forest with selected feature and hyperparameters"
   ]
  },
  {
   "cell_type": "code",
   "execution_count": 16,
   "metadata": {},
   "outputs": [
    {
     "data": {
      "text/html": [
       "<style>#sk-container-id-2 {color: black;background-color: white;}#sk-container-id-2 pre{padding: 0;}#sk-container-id-2 div.sk-toggleable {background-color: white;}#sk-container-id-2 label.sk-toggleable__label {cursor: pointer;display: block;width: 100%;margin-bottom: 0;padding: 0.3em;box-sizing: border-box;text-align: center;}#sk-container-id-2 label.sk-toggleable__label-arrow:before {content: \"▸\";float: left;margin-right: 0.25em;color: #696969;}#sk-container-id-2 label.sk-toggleable__label-arrow:hover:before {color: black;}#sk-container-id-2 div.sk-estimator:hover label.sk-toggleable__label-arrow:before {color: black;}#sk-container-id-2 div.sk-toggleable__content {max-height: 0;max-width: 0;overflow: hidden;text-align: left;background-color: #f0f8ff;}#sk-container-id-2 div.sk-toggleable__content pre {margin: 0.2em;color: black;border-radius: 0.25em;background-color: #f0f8ff;}#sk-container-id-2 input.sk-toggleable__control:checked~div.sk-toggleable__content {max-height: 200px;max-width: 100%;overflow: auto;}#sk-container-id-2 input.sk-toggleable__control:checked~label.sk-toggleable__label-arrow:before {content: \"▾\";}#sk-container-id-2 div.sk-estimator input.sk-toggleable__control:checked~label.sk-toggleable__label {background-color: #d4ebff;}#sk-container-id-2 div.sk-label input.sk-toggleable__control:checked~label.sk-toggleable__label {background-color: #d4ebff;}#sk-container-id-2 input.sk-hidden--visually {border: 0;clip: rect(1px 1px 1px 1px);clip: rect(1px, 1px, 1px, 1px);height: 1px;margin: -1px;overflow: hidden;padding: 0;position: absolute;width: 1px;}#sk-container-id-2 div.sk-estimator {font-family: monospace;background-color: #f0f8ff;border: 1px dotted black;border-radius: 0.25em;box-sizing: border-box;margin-bottom: 0.5em;}#sk-container-id-2 div.sk-estimator:hover {background-color: #d4ebff;}#sk-container-id-2 div.sk-parallel-item::after {content: \"\";width: 100%;border-bottom: 1px solid gray;flex-grow: 1;}#sk-container-id-2 div.sk-label:hover label.sk-toggleable__label {background-color: #d4ebff;}#sk-container-id-2 div.sk-serial::before {content: \"\";position: absolute;border-left: 1px solid gray;box-sizing: border-box;top: 0;bottom: 0;left: 50%;z-index: 0;}#sk-container-id-2 div.sk-serial {display: flex;flex-direction: column;align-items: center;background-color: white;padding-right: 0.2em;padding-left: 0.2em;position: relative;}#sk-container-id-2 div.sk-item {position: relative;z-index: 1;}#sk-container-id-2 div.sk-parallel {display: flex;align-items: stretch;justify-content: center;background-color: white;position: relative;}#sk-container-id-2 div.sk-item::before, #sk-container-id-2 div.sk-parallel-item::before {content: \"\";position: absolute;border-left: 1px solid gray;box-sizing: border-box;top: 0;bottom: 0;left: 50%;z-index: -1;}#sk-container-id-2 div.sk-parallel-item {display: flex;flex-direction: column;z-index: 1;position: relative;background-color: white;}#sk-container-id-2 div.sk-parallel-item:first-child::after {align-self: flex-end;width: 50%;}#sk-container-id-2 div.sk-parallel-item:last-child::after {align-self: flex-start;width: 50%;}#sk-container-id-2 div.sk-parallel-item:only-child::after {width: 0;}#sk-container-id-2 div.sk-dashed-wrapped {border: 1px dashed gray;margin: 0 0.4em 0.5em 0.4em;box-sizing: border-box;padding-bottom: 0.4em;background-color: white;}#sk-container-id-2 div.sk-label label {font-family: monospace;font-weight: bold;display: inline-block;line-height: 1.2em;}#sk-container-id-2 div.sk-label-container {text-align: center;}#sk-container-id-2 div.sk-container {/* jupyter's `normalize.less` sets `[hidden] { display: none; }` but bootstrap.min.css set `[hidden] { display: none !important; }` so we also need the `!important` here to be able to override the default hidden behavior on the sphinx rendered scikit-learn.org. See: https://github.com/scikit-learn/scikit-learn/issues/21755 */display: inline-block !important;position: relative;}#sk-container-id-2 div.sk-text-repr-fallback {display: none;}</style><div id=\"sk-container-id-2\" class=\"sk-top-container\"><div class=\"sk-text-repr-fallback\"><pre>RandomForestClassifier(criterion=&#x27;entropy&#x27;, n_estimators=900)</pre><b>In a Jupyter environment, please rerun this cell to show the HTML representation or trust the notebook. <br />On GitHub, the HTML representation is unable to render, please try loading this page with nbviewer.org.</b></div><div class=\"sk-container\" hidden><div class=\"sk-item\"><div class=\"sk-estimator sk-toggleable\"><input class=\"sk-toggleable__control sk-hidden--visually\" id=\"sk-estimator-id-4\" type=\"checkbox\" checked><label for=\"sk-estimator-id-4\" class=\"sk-toggleable__label sk-toggleable__label-arrow\">RandomForestClassifier</label><div class=\"sk-toggleable__content\"><pre>RandomForestClassifier(criterion=&#x27;entropy&#x27;, n_estimators=900)</pre></div></div></div></div></div>"
      ],
      "text/plain": [
       "RandomForestClassifier(criterion='entropy', n_estimators=900)"
      ]
     },
     "execution_count": 16,
     "metadata": {},
     "output_type": "execute_result"
    }
   ],
   "source": [
    "X_train_select = X_train[selected_features]\n",
    "X_test_select = X_test[selected_features]\n",
    "\n",
    "\n",
    "#fitting the model with the most importart features\n",
    "best_rf_2 = RandomForestClassifier(criterion = 'entropy', max_depth = None, max_features = 'sqrt', n_estimators = 900)\n",
    "best_rf_2.fit(X_train_select, y_train)"
   ]
  },
  {
   "cell_type": "code",
   "execution_count": 17,
   "metadata": {},
   "outputs": [
    {
     "name": "stdout",
     "output_type": "stream",
     "text": [
      "              precision    recall  f1-score   support\n",
      "\n",
      "           0     0.9946    0.9985    0.9965      2018\n",
      "           1     0.9963    0.9947    0.9955      2465\n",
      "           2     0.9954    0.9938    0.9946      1942\n",
      "           3     0.9950    0.9950    0.9950      2018\n",
      "           4     0.9983    0.9979    0.9981      2328\n",
      "           5     1.0000    1.0000    1.0000      2598\n",
      "           6     1.0000    1.0000    1.0000      3237\n",
      "\n",
      "    accuracy                         0.9974     16606\n",
      "   macro avg     0.9971    0.9971    0.9971     16606\n",
      "weighted avg     0.9974    0.9974    0.9974     16606\n",
      "\n"
     ]
    }
   ],
   "source": [
    "print(classification_report(y_train, best_rf_2.predict(X_train_select), digits=4))"
   ]
  },
  {
   "cell_type": "code",
   "execution_count": 18,
   "metadata": {},
   "outputs": [
    {
     "name": "stdout",
     "output_type": "stream",
     "text": [
      "              precision    recall  f1-score   support\n",
      "\n",
      "           0     0.9256    0.9366    0.9311       505\n",
      "           1     0.8590    0.8590    0.8590       617\n",
      "           2     0.7746    0.7299    0.7516       485\n",
      "           3     0.7878    0.7956    0.7917       504\n",
      "           4     0.8777    0.9003    0.8889       582\n",
      "           5     0.9693    0.9723    0.9708       650\n",
      "           6     0.9963    0.9963    0.9963       809\n",
      "\n",
      "    accuracy                         0.8960      4152\n",
      "   macro avg     0.8843    0.8843    0.8842      4152\n",
      "weighted avg     0.8953    0.8960    0.8955      4152\n",
      "\n"
     ]
    }
   ],
   "source": [
    "y_predict2 = best_rf_2.predict(X_test_select)\n",
    "print(classification_report(y_test, y_predict2, digits=4))"
   ]
  },
  {
   "cell_type": "code",
   "execution_count": 19,
   "metadata": {},
   "outputs": [
    {
     "data": {
      "image/png": "[encoded data removed]",
      "text/plain": [
       "<Figure size 800x600 with 2 Axes>"
      ]
     },
     "metadata": {},
     "output_type": "display_data"
    }
   ],
   "source": [
    "plot_confusion_matrix(y_test, y_predict2, 'Confusion Matrix of Random Forest with Feature Selection')"
   ]
  },
  {
   "cell_type": "code",
   "execution_count": null,
   "metadata": {},
   "outputs": [],
   "source": []
  }
 ],
 "metadata": {
  "kernelspec": {
   "display_name": "Python 3",
   "language": "python",
   "name": "python3"
  },
  "language_info": {
   "codemirror_mode": {
    "name": "ipython",
    "version": 3
   },
   "file_extension": ".py",
   "mimetype": "text/x-python",
   "name": "python",
   "nbconvert_exporter": "python",
   "pygments_lexer": "ipython3",
   "version": "3.10.1"
  }
 },
 "nbformat": 4,
 "nbformat_minor": 2
}
